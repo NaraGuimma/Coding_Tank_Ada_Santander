{
 "cells": [
  {
   "cell_type": "markdown",
   "id": "423e117e",
   "metadata": {},
   "source": [
    "<div style=\"background-color: black; padding: 18px;\">\n",
    "    <h1> Coding Tank | Vem Ser Tech \n",
    "</div>"
   ]
  },
  {
   "cell_type": "markdown",
   "id": "2bd0fc7d",
   "metadata": {},
   "source": [
    "<div style=\"background-color: black; padding: 10px;\">\n",
    "    <h2> Tópicos da aula - AULA 1\n",
    "</div>\n",
    "\n",
    "- Variáveis\n",
    "- Tipos básicos\n",
    "- Entradas/Saídas\n",
    "- Operadores aritméticos, atribuição e comparação"
   ]
  },
  {
   "cell_type": "markdown",
   "id": "b8600ec3",
   "metadata": {},
   "source": [
    "# Introdução\n",
    "\n",
    "Vamos explorar como o jupyter notebook funciona, botões, comandos e tipos de célula"
   ]
  },
  {
   "cell_type": "markdown",
   "id": "fa313866",
   "metadata": {},
   "source": [
    "Markdown"
   ]
  },
  {
   "cell_type": "code",
   "execution_count": 1,
   "id": "9463f580",
   "metadata": {},
   "outputs": [
    {
     "data": {
      "text/plain": [
       "2"
      ]
     },
     "execution_count": 1,
     "metadata": {},
     "output_type": "execute_result"
    }
   ],
   "source": [
    "2"
   ]
  },
  {
   "cell_type": "code",
   "execution_count": 2,
   "id": "241b511d",
   "metadata": {},
   "outputs": [
    {
     "data": {
      "text/plain": [
       "3"
      ]
     },
     "execution_count": 2,
     "metadata": {},
     "output_type": "execute_result"
    }
   ],
   "source": [
    "3"
   ]
  },
  {
   "cell_type": "code",
   "execution_count": 3,
   "id": "9326204d",
   "metadata": {},
   "outputs": [
    {
     "data": {
      "text/plain": [
       "5"
      ]
     },
     "execution_count": 3,
     "metadata": {},
     "output_type": "execute_result"
    }
   ],
   "source": [
    "3 + 2  "
   ]
  },
  {
   "cell_type": "code",
   "execution_count": 4,
   "id": "213c2d0a",
   "metadata": {},
   "outputs": [
    {
     "data": {
      "text/plain": [
       "1"
      ]
     },
     "execution_count": 4,
     "metadata": {},
     "output_type": "execute_result"
    }
   ],
   "source": [
    "3 - 2"
   ]
  },
  {
   "cell_type": "code",
   "execution_count": 5,
   "id": "fa52c5b3",
   "metadata": {},
   "outputs": [
    {
     "data": {
      "text/plain": [
       "7.5"
      ]
     },
     "execution_count": 5,
     "metadata": {},
     "output_type": "execute_result"
    }
   ],
   "source": [
    "15 / 2"
   ]
  },
  {
   "cell_type": "code",
   "execution_count": 6,
   "id": "be77b7b6",
   "metadata": {},
   "outputs": [
    {
     "data": {
      "text/plain": [
       "7"
      ]
     },
     "execution_count": 6,
     "metadata": {},
     "output_type": "execute_result"
    }
   ],
   "source": [
    "15 // 2"
   ]
  },
  {
   "cell_type": "code",
   "execution_count": 7,
   "id": "ba116bad",
   "metadata": {},
   "outputs": [
    {
     "data": {
      "text/plain": [
       "1"
      ]
     },
     "execution_count": 7,
     "metadata": {},
     "output_type": "execute_result"
    }
   ],
   "source": [
    "15 % 2"
   ]
  },
  {
   "cell_type": "code",
   "execution_count": 8,
   "id": "2e30b6d1",
   "metadata": {},
   "outputs": [
    {
     "data": {
      "text/plain": [
       "225"
      ]
     },
     "execution_count": 8,
     "metadata": {},
     "output_type": "execute_result"
    }
   ],
   "source": [
    "15 ** 2"
   ]
  },
  {
   "cell_type": "markdown",
   "id": "2f4c88b7",
   "metadata": {},
   "source": [
    "**Operadores Aritméticos**\n",
    "\n",
    "|     Operador    |     Nome                 |     Função                                                                       |\n",
    "|-----------------|--------------------------|----------------------------------------------------------------------------------|\n",
    "|     +           |     Adição               |     Realiza   a soma de ambos operandos.                                         |\n",
    "|     -           |     Subtração            |     Realiza   a subtração de ambos operandos.                                    |\n",
    "|     *           |     Multiplicação        |     Realiza   a multiplicação de ambos operandos.                                |\n",
    "|     /           |     Divisão              |     Realiza   a Divisão de ambos operandos.                                      |\n",
    "|     //          |     Divisão   inteira    |     Realiza   a divisão entre operandos e a parte decimal de ambos operandos.    |\n",
    "|     %           |     Módulo               |     Retorna   o resto da divisão de ambos operandos.                             |\n",
    "|     **          |     Exponenciação        |     Retorna   o resultado da elevação da potência pelo outro.                    |"
   ]
  },
  {
   "cell_type": "markdown",
   "id": "5393993e",
   "metadata": {},
   "source": [
    "Mas como podemos armazenar esses valores?"
   ]
  },
  {
   "cell_type": "markdown",
   "id": "c3208653",
   "metadata": {},
   "source": [
    "# Variáveis\n",
    "\n",
    "Variável é o nome dado ao tipo de conteúdo que pode apresentar diferentes valores enquanto o sistema está em execução. Tudo dependerá do comando do usuário e o tipo de operação que é realizado.\n",
    "\n",
    "Imagine que você conhece uma nova pessoa. A variável seria o lugar no seu cérebro no qual você guarda, por exemplo, o nome desta pessoa, ou seja, é alocado um espaço para armazenar esta informação e posteriormente é passado o valor referente aquele dado.\n",
    "\n",
    "`nome = \"Renata\"`\n",
    "\n",
    "## Tipos básicos\n",
    "\n",
    "Podemos ter informações relacionadas às outras pessoas como nome, idade e salário. Cada uma delas possui o que chamamos de tipos de variável. Os tipos de dados são os seguintes:"
   ]
  },
  {
   "cell_type": "markdown",
   "id": "f771076b",
   "metadata": {},
   "source": [
    "Variavel é o que armazenamos dentro da memória RAM do nosso computador"
   ]
  },
  {
   "cell_type": "code",
   "execution_count": 14,
   "id": "c55e19e8",
   "metadata": {},
   "outputs": [
    {
     "data": {
      "text/plain": [
       "'Renata'"
      ]
     },
     "execution_count": 14,
     "metadata": {},
     "output_type": "execute_result"
    }
   ],
   "source": [
    "nome = 'Renata'\n",
    "nome"
   ]
  },
  {
   "cell_type": "code",
   "execution_count": 11,
   "id": "dab98564",
   "metadata": {},
   "outputs": [
    {
     "data": {
      "text/plain": [
       "str"
      ]
     },
     "execution_count": 11,
     "metadata": {},
     "output_type": "execute_result"
    }
   ],
   "source": [
    "nome = 'Nara'\n",
    "type(nome)"
   ]
  },
  {
   "cell_type": "markdown",
   "id": "0e72ee66",
   "metadata": {},
   "source": [
    "str: coleção de caracteres"
   ]
  },
  {
   "cell_type": "code",
   "execution_count": 15,
   "id": "e94275ea",
   "metadata": {},
   "outputs": [],
   "source": [
    "nome = \"Nara\""
   ]
  },
  {
   "cell_type": "code",
   "execution_count": 16,
   "id": "63bfa46a",
   "metadata": {},
   "outputs": [
    {
     "data": {
      "text/plain": [
       "'Nara'"
      ]
     },
     "execution_count": 16,
     "metadata": {},
     "output_type": "execute_result"
    }
   ],
   "source": [
    "# feita a reatribuição da variavél\n",
    "nome"
   ]
  },
  {
   "cell_type": "markdown",
   "id": "5229964b",
   "metadata": {},
   "source": [
    "aspas simples ('') ou aspas duplas (\"\") são equivalentes"
   ]
  },
  {
   "cell_type": "code",
   "execution_count": 17,
   "id": "0ce06f61",
   "metadata": {},
   "outputs": [
    {
     "data": {
      "text/plain": [
       "int"
      ]
     },
     "execution_count": 17,
     "metadata": {},
     "output_type": "execute_result"
    }
   ],
   "source": [
    "idade = 28\n",
    "type(idade)"
   ]
  },
  {
   "cell_type": "markdown",
   "id": "b4b0caae",
   "metadata": {},
   "source": [
    "int: integer, simples numérico"
   ]
  },
  {
   "cell_type": "code",
   "execution_count": 18,
   "id": "04ad08d4",
   "metadata": {},
   "outputs": [
    {
     "data": {
      "text/plain": [
       "28"
      ]
     },
     "execution_count": 18,
     "metadata": {},
     "output_type": "execute_result"
    }
   ],
   "source": [
    "idade"
   ]
  },
  {
   "cell_type": "code",
   "execution_count": 19,
   "id": "9309e7f3",
   "metadata": {},
   "outputs": [
    {
     "data": {
      "text/plain": [
       "float"
      ]
     },
     "execution_count": 19,
     "metadata": {},
     "output_type": "execute_result"
    }
   ],
   "source": [
    "idade = 21.13\n",
    "type(idade)"
   ]
  },
  {
   "cell_type": "markdown",
   "id": "1a79033a",
   "metadata": {},
   "source": [
    "float: número com ponto flutuante, possuindo casas decimais"
   ]
  },
  {
   "cell_type": "code",
   "execution_count": 20,
   "id": "b45f1b53",
   "metadata": {},
   "outputs": [
    {
     "data": {
      "text/plain": [
       "21.13"
      ]
     },
     "execution_count": 20,
     "metadata": {},
     "output_type": "execute_result"
    }
   ],
   "source": [
    "idade"
   ]
  },
  {
   "cell_type": "code",
   "execution_count": 21,
   "id": "15812d79",
   "metadata": {},
   "outputs": [
    {
     "data": {
      "text/plain": [
       "bool"
      ]
     },
     "execution_count": 21,
     "metadata": {},
     "output_type": "execute_result"
    }
   ],
   "source": [
    "certificado = True\n",
    "type(certificado)"
   ]
  },
  {
   "cell_type": "markdown",
   "id": "38bf828e",
   "metadata": {},
   "source": [
    "bool: boolen, booleano (True ou False), é case sensitive"
   ]
  },
  {
   "cell_type": "code",
   "execution_count": 22,
   "id": "6639df36",
   "metadata": {},
   "outputs": [
    {
     "data": {
      "text/plain": [
       "False"
      ]
     },
     "execution_count": 22,
     "metadata": {},
     "output_type": "execute_result"
    }
   ],
   "source": [
    "certificado = False\n",
    "certificado"
   ]
  },
  {
   "cell_type": "code",
   "execution_count": 27,
   "id": "932ee297",
   "metadata": {},
   "outputs": [
    {
     "data": {
      "text/plain": [
       "False"
      ]
     },
     "execution_count": 27,
     "metadata": {},
     "output_type": "execute_result"
    }
   ],
   "source": [
    "# atribuir o tipo da variável\n",
    "certificado: bool = False\n",
    "certificado"
   ]
  },
  {
   "cell_type": "markdown",
   "id": "945f06b6",
   "metadata": {},
   "source": [
    "Idade é diferente de idade"
   ]
  },
  {
   "cell_type": "markdown",
   "id": "ae10d9dc",
   "metadata": {},
   "source": [
    "# Entradas\n",
    "\n",
    "Para solicitarmos entradas de informações a serem fornecidas pelo usuário podemos utilizar a função input. Com ela você poderá (opcional) passar uma mensagem instrutiva ao usuário do que deseja que ele insira.  \n",
    "No exemplo abaixo utilizaremos o input."
   ]
  },
  {
   "cell_type": "code",
   "execution_count": 28,
   "id": "f62524ea",
   "metadata": {},
   "outputs": [
    {
     "data": {
      "text/plain": [
       "'123'"
      ]
     },
     "execution_count": 28,
     "metadata": {},
     "output_type": "execute_result"
    }
   ],
   "source": [
    "input()"
   ]
  },
  {
   "cell_type": "markdown",
   "id": "57453227",
   "metadata": {},
   "source": [
    "aparece um popup para incclusao de um valor, e por default ele considera esse valor um string"
   ]
  },
  {
   "cell_type": "markdown",
   "id": "a9be572a",
   "metadata": {},
   "source": [
    "**Intuição**  \n",
    "Veja que ele funciona, porém sem uma mensagem de qual informação é solicitada não é possível identificar o que se deve passar ao programa."
   ]
  },
  {
   "cell_type": "code",
   "execution_count": 31,
   "id": "f974c3df",
   "metadata": {},
   "outputs": [
    {
     "data": {
      "text/plain": [
       "'28'"
      ]
     },
     "execution_count": 31,
     "metadata": {},
     "output_type": "execute_result"
    }
   ],
   "source": [
    "# insira a sua idade - será um lable para a mensagem \n",
    "input(\"insira a sua idade:\")"
   ]
  },
  {
   "cell_type": "markdown",
   "id": "8dec4efe",
   "metadata": {},
   "source": [
    "**Variável**  \n",
    "Podemos guardar o valor passado pelo usuário numa variável"
   ]
  },
  {
   "cell_type": "code",
   "execution_count": 32,
   "id": "5b1a0065",
   "metadata": {},
   "outputs": [],
   "source": [
    "idade = input(\"insira a sua idade:\")"
   ]
  },
  {
   "cell_type": "code",
   "execution_count": 33,
   "id": "7f6ab20d",
   "metadata": {},
   "outputs": [
    {
     "data": {
      "text/plain": [
       "'28'"
      ]
     },
     "execution_count": 33,
     "metadata": {},
     "output_type": "execute_result"
    }
   ],
   "source": [
    "# printando o valor da variável\n",
    "idade"
   ]
  },
  {
   "cell_type": "markdown",
   "id": "1e00f439",
   "metadata": {},
   "source": [
    "Repare nas aspas que saem quando utilizamos apenas a função input. Isso quer dizer que este valor capturado pelo programa é uma string, independente do que o usuário insira."
   ]
  },
  {
   "cell_type": "code",
   "execution_count": 35,
   "id": "7f15c937",
   "metadata": {},
   "outputs": [
    {
     "data": {
      "text/plain": [
       "str"
      ]
     },
     "execution_count": 35,
     "metadata": {},
     "output_type": "execute_result"
    }
   ],
   "source": [
    "type(idade)\n",
    "# por default o input considera o valor inserido como string/texto"
   ]
  },
  {
   "cell_type": "markdown",
   "id": "a0007819",
   "metadata": {},
   "source": [
    "**Convertendo o tipo de dado**\n",
    "\n",
    "Neste caso é interessante que a idade seja um número, visto que em geral o utilizamos para realizar contas, por exemplo. Para converter este valor para um inteiro, podemos fazer da seguinte forma:"
   ]
  },
  {
   "cell_type": "code",
   "execution_count": 37,
   "id": "3abfbb24",
   "metadata": {},
   "outputs": [
    {
     "data": {
      "text/plain": [
       "28"
      ]
     },
     "execution_count": 37,
     "metadata": {},
     "output_type": "execute_result"
    }
   ],
   "source": [
    "int(idade)"
   ]
  },
  {
   "cell_type": "code",
   "execution_count": 38,
   "id": "2b5b6e79",
   "metadata": {},
   "outputs": [
    {
     "data": {
      "text/plain": [
       "int"
      ]
     },
     "execution_count": 38,
     "metadata": {},
     "output_type": "execute_result"
    }
   ],
   "source": [
    "idade = int(idade)\n",
    "type(idade)"
   ]
  },
  {
   "cell_type": "markdown",
   "id": "2746e865",
   "metadata": {},
   "source": [
    "o Python não é uma linguagem tipada, e por isso podemos trocar os tipos de uma variável durante o código"
   ]
  },
  {
   "cell_type": "code",
   "execution_count": 39,
   "id": "b2d05721",
   "metadata": {},
   "outputs": [
    {
     "data": {
      "text/plain": [
       "28.0"
      ]
     },
     "execution_count": 39,
     "metadata": {},
     "output_type": "execute_result"
    }
   ],
   "source": [
    "float(idade)"
   ]
  },
  {
   "cell_type": "code",
   "execution_count": 40,
   "id": "cdd2d645",
   "metadata": {},
   "outputs": [
    {
     "data": {
      "text/plain": [
       "'28.0'"
      ]
     },
     "execution_count": 40,
     "metadata": {},
     "output_type": "execute_result"
    }
   ],
   "source": [
    "str(float(idade))"
   ]
  },
  {
   "cell_type": "code",
   "execution_count": null,
   "id": "e717563c",
   "metadata": {},
   "outputs": [],
   "source": [
    "idade = int(input(\"Insira sua idade\"))\n",
    "# melhor fazer uma verificação/validação antes de fazer qualquer processamento na variável quando usado o input()"
   ]
  },
  {
   "cell_type": "markdown",
   "id": "76ad8937",
   "metadata": {},
   "source": [
    "float usa mais espaço na memória do que inteiro, mas a utilização de um ou de outro vai depender muito da aplicação para evitar a perda de informaçoes"
   ]
  },
  {
   "cell_type": "code",
   "execution_count": 41,
   "id": "3caa3d85",
   "metadata": {},
   "outputs": [
    {
     "ename": "ValueError",
     "evalue": "could not convert string to float: 'Nara'",
     "output_type": "error",
     "traceback": [
      "\u001b[0;31m---------------------------------------------------------------------------\u001b[0m",
      "\u001b[0;31mValueError\u001b[0m                                Traceback (most recent call last)",
      "Cell \u001b[0;32mIn[41], line 1\u001b[0m\n\u001b[0;32m----> 1\u001b[0m \u001b[38;5;28;43mfloat\u001b[39;49m\u001b[43m(\u001b[49m\u001b[38;5;124;43m'\u001b[39;49m\u001b[38;5;124;43mNara\u001b[39;49m\u001b[38;5;124;43m'\u001b[39;49m\u001b[43m)\u001b[49m\n",
      "\u001b[0;31mValueError\u001b[0m: could not convert string to float: 'Nara'"
     ]
    }
   ],
   "source": [
    "float('Nara')"
   ]
  },
  {
   "cell_type": "markdown",
   "id": "39fdcfd1",
   "metadata": {},
   "source": [
    "erro já era esperado pois não teria como converter um string para float de modo algum"
   ]
  },
  {
   "cell_type": "code",
   "execution_count": 42,
   "id": "82f17db5",
   "metadata": {},
   "outputs": [
    {
     "data": {
      "text/plain": [
       "124"
      ]
     },
     "execution_count": 42,
     "metadata": {},
     "output_type": "execute_result"
    }
   ],
   "source": [
    "int('0000124')"
   ]
  },
  {
   "cell_type": "markdown",
   "id": "8dbb81c0",
   "metadata": {},
   "source": [
    "remove os zeros a esqueda do númoro, pois numeros inteiros nao possuem zeros a esquerda"
   ]
  },
  {
   "cell_type": "markdown",
   "id": "295fd764",
   "metadata": {},
   "source": [
    "E para simplificar ainda mais é comum que já realizemos a conversão da variável logo na chamada do input."
   ]
  },
  {
   "cell_type": "code",
   "execution_count": 43,
   "id": "a71c320f",
   "metadata": {},
   "outputs": [
    {
     "ename": "ValueError",
     "evalue": "invalid literal for int() with base 10: 'Nara'",
     "output_type": "error",
     "traceback": [
      "\u001b[0;31m---------------------------------------------------------------------------\u001b[0m",
      "\u001b[0;31mValueError\u001b[0m                                Traceback (most recent call last)",
      "Cell \u001b[0;32mIn[43], line 1\u001b[0m\n\u001b[0;32m----> 1\u001b[0m idade \u001b[38;5;241m=\u001b[39m \u001b[38;5;28;43mint\u001b[39;49m\u001b[43m(\u001b[49m\u001b[38;5;28;43minput\u001b[39;49m\u001b[43m(\u001b[49m\u001b[38;5;124;43m\"\u001b[39;49m\u001b[38;5;124;43mInsira a sua idade\u001b[39;49m\u001b[38;5;124;43m\"\u001b[39;49m\u001b[43m)\u001b[49m\u001b[43m)\u001b[49m\n",
      "\u001b[0;31mValueError\u001b[0m: invalid literal for int() with base 10: 'Nara'"
     ]
    }
   ],
   "source": [
    "idade = int(input(\"Insira a sua idade\"))"
   ]
  },
  {
   "cell_type": "markdown",
   "id": "063b2b9f",
   "metadata": {},
   "source": [
    "quebra o códido porque forçamos a conversao logo no input, usar try except, validaçoes"
   ]
  },
  {
   "cell_type": "code",
   "execution_count": 44,
   "id": "73266b5a",
   "metadata": {},
   "outputs": [],
   "source": [
    "idade = int(input(\"Insira a sua idade\"))"
   ]
  },
  {
   "cell_type": "code",
   "execution_count": 45,
   "id": "e1b89817",
   "metadata": {},
   "outputs": [
    {
     "data": {
      "text/plain": [
       "int"
      ]
     },
     "execution_count": 45,
     "metadata": {},
     "output_type": "execute_result"
    }
   ],
   "source": [
    "type(idade)"
   ]
  },
  {
   "cell_type": "markdown",
   "id": "fa2168c4",
   "metadata": {},
   "source": [
    "## Saídas\n",
    "\n",
    "Em diversas situações desejamos imprimir na tela o resultado de alguma operação que realizamos ou simplesmente emitirmos uma mensagem, para estas situações utilizamos o `print`."
   ]
  },
  {
   "cell_type": "code",
   "execution_count": 47,
   "id": "8ae62362",
   "metadata": {},
   "outputs": [
    {
     "name": "stdout",
     "output_type": "stream",
     "text": [
      "\n"
     ]
    }
   ],
   "source": [
    "# printando nada sai nada \n",
    "print()"
   ]
  },
  {
   "cell_type": "code",
   "execution_count": 48,
   "id": "712911a2",
   "metadata": {},
   "outputs": [
    {
     "name": "stdout",
     "output_type": "stream",
     "text": [
      "Voce pode printar o que voce quiser aqui\n"
     ]
    }
   ],
   "source": [
    "# string pode ser com aspas duplas ou simples\n",
    "print('Voce pode printar o que voce quiser aqui')"
   ]
  },
  {
   "cell_type": "code",
   "execution_count": 49,
   "id": "96bf76ca",
   "metadata": {},
   "outputs": [
    {
     "name": "stdout",
     "output_type": "stream",
     "text": [
      "As aspas duplas também funcionam\n"
     ]
    }
   ],
   "source": [
    "print(\"As aspas duplas também funcionam\")"
   ]
  },
  {
   "cell_type": "markdown",
   "id": "a50aa749",
   "metadata": {},
   "source": [
    "podemos tambem colocar simbolos como ˜, ç, ´"
   ]
  },
  {
   "cell_type": "code",
   "execution_count": 50,
   "id": "cebac0fa",
   "metadata": {},
   "outputs": [
    {
     "name": "stdout",
     "output_type": "stream",
     "text": [
      "Bulhões\n"
     ]
    }
   ],
   "source": [
    "print(\"Bulhões\")"
   ]
  },
  {
   "cell_type": "code",
   "execution_count": 51,
   "id": "b532987d",
   "metadata": {},
   "outputs": [
    {
     "name": "stdout",
     "output_type": "stream",
     "text": [
      "Olá pequenos \n",
      " gafanhotos\n"
     ]
    }
   ],
   "source": [
    "print(\"Olá pequenos \\n gafanhotos\")"
   ]
  },
  {
   "cell_type": "markdown",
   "id": "dc3eec4e",
   "metadata": {},
   "source": [
    "\\n pula de linha na saída"
   ]
  },
  {
   "cell_type": "code",
   "execution_count": 52,
   "id": "18506214",
   "metadata": {},
   "outputs": [
    {
     "name": "stdout",
     "output_type": "stream",
     "text": [
      "Olá \n",
      "pequenos \n",
      "gafanhotos\n"
     ]
    }
   ],
   "source": [
    "print(\"Olá \\npequenos \\ngafanhotos\")"
   ]
  },
  {
   "cell_type": "code",
   "execution_count": 53,
   "id": "495c3b18",
   "metadata": {},
   "outputs": [
    {
     "name": "stdout",
     "output_type": "stream",
     "text": [
      "\té possível tabular\n"
     ]
    }
   ],
   "source": [
    "print(\"\\té possível tabular\")"
   ]
  },
  {
   "cell_type": "markdown",
   "id": "7d12e6b9",
   "metadata": {},
   "source": [
    "\\t é uma tabulaçao, adicionando um parágrafo no nosso texto"
   ]
  },
  {
   "cell_type": "code",
   "execution_count": 55,
   "id": "1e37b974",
   "metadata": {},
   "outputs": [
    {
     "name": "stdout",
     "output_type": "stream",
     "text": [
      "Olá \n",
      "pequenos \n",
      "gafanhotos\n",
      "\té possível tabular\n",
      "Olá mundo!\n"
     ]
    }
   ],
   "source": [
    "# printando uma sequencia de linhas\n",
    "print(\"Olá \\npequenos \\ngafanhotos\")\n",
    "print(\"\\té possível tabular\")\n",
    "print(\"Olá mundo!\")"
   ]
  },
  {
   "cell_type": "code",
   "execution_count": 57,
   "id": "72fe1a3d",
   "metadata": {},
   "outputs": [
    {
     "data": {
      "text/plain": [
       "'texto'"
      ]
     },
     "execution_count": 57,
     "metadata": {},
     "output_type": "execute_result"
    }
   ],
   "source": [
    "# sem o print conseguimos tambem printar \n",
    "\"texto\""
   ]
  },
  {
   "cell_type": "code",
   "execution_count": 58,
   "id": "669c4cde",
   "metadata": {},
   "outputs": [
    {
     "data": {
      "text/plain": [
       "'texto123'"
      ]
     },
     "execution_count": 58,
     "metadata": {},
     "output_type": "execute_result"
    }
   ],
   "source": [
    "# sem o print conseguimos tambem printar, so que se tiver varios na mesma celular, só o ultimo vai aparecer \n",
    "\"texto\"\n",
    "\"texto123\""
   ]
  },
  {
   "cell_type": "markdown",
   "id": "c575d984",
   "metadata": {},
   "source": [
    "**Mais de um argumento**  \n",
    "Para imprimir mais de uma informação, o print permite inserir quantos argumentos forem necessários, desde que separados por vírgula. Veja o exemplo:"
   ]
  },
  {
   "cell_type": "code",
   "execution_count": 60,
   "id": "2dfe08f0",
   "metadata": {},
   "outputs": [
    {
     "name": "stdout",
     "output_type": "stream",
     "text": [
      "Ola eu sou a  Nara!\n"
     ]
    }
   ],
   "source": [
    "print('Ola', 'eu sou a ', 'Nara!')\n",
    "# printa uma lista (por conta do *values da funcao print())"
   ]
  },
  {
   "cell_type": "code",
   "execution_count": 61,
   "id": "a28e8533",
   "metadata": {},
   "outputs": [
    {
     "name": "stdout",
     "output_type": "stream",
     "text": [
      "Ola eu sou a Nara!"
     ]
    }
   ],
   "source": [
    "# incluindo algo ao final da string\n",
    "print('Ola eu sou a Nara', end='!')"
   ]
  },
  {
   "cell_type": "markdown",
   "id": "944f604d",
   "metadata": {},
   "source": [
    "**Print de variáveis**  \n",
    "Também é possível imprimir variáveis de forma simples, basta passar o nome dado para a variável dentro dos parênteses."
   ]
  },
  {
   "cell_type": "code",
   "execution_count": 62,
   "id": "2b510478",
   "metadata": {},
   "outputs": [
    {
     "name": "stdout",
     "output_type": "stream",
     "text": [
      "12\n"
     ]
    }
   ],
   "source": [
    "print(idade)"
   ]
  },
  {
   "cell_type": "markdown",
   "id": "ba3cfb0e",
   "metadata": {},
   "source": [
    "E se for necessário imprimir a mensagem \"Olá, eu sou Renata Marchese\", de forma que o nome e o sobrenome sejam provenientes de variáveis nome e sobrenome"
   ]
  },
  {
   "cell_type": "code",
   "execution_count": 63,
   "id": "7b142c5e",
   "metadata": {},
   "outputs": [],
   "source": [
    "nome = \"Renata\" # atribuindo novo valor a variavel nome\n",
    "sobrenome = \"Marchese\"\n",
    "idade = 28"
   ]
  },
  {
   "cell_type": "code",
   "execution_count": 65,
   "id": "f814dd24",
   "metadata": {},
   "outputs": [
    {
     "name": "stdout",
     "output_type": "stream",
     "text": [
      "Olá, eu sou a Renata Marchese e eu tenho  28 anos\n"
     ]
    }
   ],
   "source": [
    "print(\"Olá, eu sou a\", nome, sobrenome, \"e eu tenho \", idade, \"anos\")"
   ]
  },
  {
   "cell_type": "markdown",
   "id": "ba95afe0",
   "metadata": {},
   "source": [
    "o espaco é colocado automaticamente na string, somente a virgula ja basta"
   ]
  },
  {
   "cell_type": "code",
   "execution_count": 66,
   "id": "09ada37a",
   "metadata": {},
   "outputs": [
    {
     "name": "stdout",
     "output_type": "stream",
     "text": [
      "Olá, eu sou a Renata Marchese e eu tenho 28 anos\n"
     ]
    }
   ],
   "source": [
    "print(\"Olá, eu sou a {} {} e eu tenho {} anos\".format(nome, sobrenome, idade))"
   ]
  },
  {
   "cell_type": "code",
   "execution_count": 112,
   "id": "f3c7deb4",
   "metadata": {},
   "outputs": [
    {
     "name": "stdout",
     "output_type": "stream",
     "text": [
      "Olá, eu sou a Renata Marchese e eu tenho 22 anos\n"
     ]
    }
   ],
   "source": [
    "print(\"Olá, eu sou a %s %s e eu tenho %d anos\"%(nome, sobrenome, idade))\n",
    "# funciona exatamente como C e C++"
   ]
  },
  {
   "cell_type": "code",
   "execution_count": 115,
   "id": "a72c5c09",
   "metadata": {},
   "outputs": [
    {
     "name": "stdout",
     "output_type": "stream",
     "text": [
      "Olá, eu sou a Renata Marchese e eu tenho 22 anos e meu salário é 1400.50\n"
     ]
    }
   ],
   "source": [
    "salario = 1400.50\n",
    "print(\"Olá, eu sou a %s %s e eu tenho %d anos e meu salário é %.2f\"%(nome, sobrenome, idade, salario))\n",
    "# trazendo apenas duas casas decimais"
   ]
  },
  {
   "cell_type": "code",
   "execution_count": 125,
   "id": "1f662c5b",
   "metadata": {},
   "outputs": [
    {
     "name": "stdout",
     "output_type": "stream",
     "text": [
      "20.9878\n"
     ]
    }
   ],
   "source": [
    "imc = 20.9878\n",
    "print(f\"{imc}\")"
   ]
  },
  {
   "cell_type": "code",
   "execution_count": 129,
   "id": "71fddc9d",
   "metadata": {},
   "outputs": [
    {
     "name": "stdout",
     "output_type": "stream",
     "text": [
      "20.99\n"
     ]
    }
   ],
   "source": [
    "imc = 20.9878\n",
    "print(f\"{imc:.2f}\") # usando o f string para colocar apenas duas casas decimais, arredondando o valor e nao truncando o mesmo"
   ]
  },
  {
   "cell_type": "markdown",
   "id": "ab872634",
   "metadata": {},
   "source": [
    "para truncar nao teria uma forma especifica, poderia colocar para string e cortar as casa decimais, ou multiplicar por um numero exato das casas que queremos, ou entao usar o % para cortar as casa"
   ]
  },
  {
   "cell_type": "markdown",
   "id": "08b9c448",
   "metadata": {},
   "source": [
    "**Print com f string**  \n",
    "Outra forma de utilizarmos o print com variáveis é por meio do que chamamos de f string."
   ]
  },
  {
   "cell_type": "code",
   "execution_count": 68,
   "id": "37382cff",
   "metadata": {},
   "outputs": [
    {
     "name": "stdout",
     "output_type": "stream",
     "text": [
      "Olá, eu sou a Renata Marchese e eu tenho 28 anos\n"
     ]
    }
   ],
   "source": [
    "# boa pratica para usar no nosso cotidiano\n",
    "print(f\"Olá, eu sou a {nome} {sobrenome} e eu tenho {idade} anos\")"
   ]
  },
  {
   "cell_type": "markdown",
   "id": "99da0d47",
   "metadata": {},
   "source": [
    "**Bora praticar!**  \n",
    "Escreva um programa que receba seu nome, sua idade, hobby e escreva uma única sentença que seja, por exemplo, \"Meu nome é Renata, tenho 22 anos e meu hobby é viajar\" "
   ]
  },
  {
   "cell_type": "code",
   "execution_count": 82,
   "id": "c7e45e40",
   "metadata": {},
   "outputs": [
    {
     "data": {
      "text/plain": [
       "'Renata'"
      ]
     },
     "execution_count": 82,
     "metadata": {},
     "output_type": "execute_result"
    }
   ],
   "source": [
    "name = input(\"Qual o seu nome?\")\n",
    "name"
   ]
  },
  {
   "cell_type": "code",
   "execution_count": 83,
   "id": "5fe9c984",
   "metadata": {},
   "outputs": [
    {
     "data": {
      "text/plain": [
       "22"
      ]
     },
     "execution_count": 83,
     "metadata": {},
     "output_type": "execute_result"
    }
   ],
   "source": [
    "age = input(\"Qual a sua idade?\")\n",
    "age = int(age)\n",
    "age"
   ]
  },
  {
   "cell_type": "code",
   "execution_count": 84,
   "id": "777d596a",
   "metadata": {},
   "outputs": [
    {
     "data": {
      "text/plain": [
       "'viajar'"
      ]
     },
     "execution_count": 84,
     "metadata": {},
     "output_type": "execute_result"
    }
   ],
   "source": [
    "hobby = input(\"Qual o seu hobby?\")\n",
    "hobby"
   ]
  },
  {
   "cell_type": "code",
   "execution_count": 85,
   "id": "d93df66c",
   "metadata": {},
   "outputs": [
    {
     "name": "stdout",
     "output_type": "stream",
     "text": [
      "Meu nome é Renata, tenho 22 anos e meu hobby é viajar\n"
     ]
    }
   ],
   "source": [
    "print(f\"Meu nome é {name}, tenho {age} anos e meu hobby é {hobby}\")"
   ]
  },
  {
   "cell_type": "markdown",
   "id": "5ffd55f4",
   "metadata": {},
   "source": [
    "# Operadores Algébricos e de Atribuição\n",
    "Rotineiramente nos deparamos com a necessidade de realizarmos cálculos, para isso utilizamos os operadores algébricos como conhecemos na matemática tradicional. Mas como usar com variáveis?"
   ]
  },
  {
   "cell_type": "code",
   "execution_count": 87,
   "id": "66ec66c5",
   "metadata": {},
   "outputs": [
    {
     "name": "stdout",
     "output_type": "stream",
     "text": [
      "25\n"
     ]
    }
   ],
   "source": [
    "valor_01 = 10\n",
    "valor_02 = 15\n",
    "print(valor_01 + valor_02) # consegue fazer essa some e trazer o resultado final de uma operação"
   ]
  },
  {
   "cell_type": "code",
   "execution_count": 89,
   "id": "2de8314e",
   "metadata": {},
   "outputs": [
    {
     "name": "stdout",
     "output_type": "stream",
     "text": [
      "valor de x =  5\n",
      "valor de y =  2\n",
      "valor de z =  7\n",
      "valor de x =  6\n",
      "valor de z =  7\n"
     ]
    }
   ],
   "source": [
    "x = 5\n",
    "y = 2\n",
    "\n",
    "z = x + y\n",
    "\n",
    "print(\"valor de x = \", x)\n",
    "print(\"valor de y = \", y)\n",
    "print(\"valor de z = \", z)\n",
    "\n",
    "x = x + 1\n",
    "\n",
    "print(\"valor de x = \", x)\n",
    "print(\"valor de z = \", z)"
   ]
  },
  {
   "cell_type": "code",
   "execution_count": 92,
   "id": "4dc25f9d",
   "metadata": {},
   "outputs": [
    {
     "name": "stdout",
     "output_type": "stream",
     "text": [
      "valor de x =  5\n",
      "valor de y =  2\n",
      "valor de z =  7\n",
      "valor de x =  6\n",
      "valor de z =  8\n"
     ]
    }
   ],
   "source": [
    "x = 5\n",
    "y = 2\n",
    "\n",
    "z = x + y\n",
    "\n",
    "print(\"valor de x = \", x)\n",
    "print(\"valor de y = \", y)\n",
    "print(\"valor de z = \", z)\n",
    "\n",
    "x += 1\n",
    "z = x + y # reatribui o valor do z, com o novo valor de x que foi modificado\n",
    "\n",
    "print(\"valor de x = \", x)\n",
    "print(\"valor de z = \", z)"
   ]
  },
  {
   "cell_type": "markdown",
   "id": "1c7dee09",
   "metadata": {},
   "source": [
    "**Operadores de atribuição**\n",
    "\n",
    "|     Operador    |     Equivalente a    |\n",
    "|:---------------:|----------------------|\n",
    "|         =       |     x =   1          |\n",
    "|        +=       |     x =   x + 1      |\n",
    "|        -=       |     x =   x - 1      |\n",
    "|        *=       |     x =   x * 1      |\n",
    "|        /=       |     x =   x / 1      |\n",
    "|        %=       |     x =   x % 1      |"
   ]
  },
  {
   "cell_type": "markdown",
   "id": "e6332069",
   "metadata": {},
   "source": [
    "**Bora praticar!**  \n",
    "Com tudo que vimos até o momento faça um programa que solicite ao usuário que insira seu ano de nascimento. Desconsiderando o mês do ano de nascimento, emita uma mensagem dizendo quantos anos ele possui."
   ]
  },
  {
   "cell_type": "code",
   "execution_count": 93,
   "id": "e81365a4",
   "metadata": {},
   "outputs": [],
   "source": [
    "birth_year = input(\"Qual o seu ano de nascimento?\")\n",
    "birth_year = int(birth_year)"
   ]
  },
  {
   "cell_type": "code",
   "execution_count": 94,
   "id": "cfcbef57",
   "metadata": {},
   "outputs": [
    {
     "name": "stdout",
     "output_type": "stream",
     "text": [
      "Voce possui 25 anos\n"
     ]
    }
   ],
   "source": [
    "age = 2024 - birth_year\n",
    "print(f\"Voce possui {age} anos\")"
   ]
  },
  {
   "cell_type": "code",
   "execution_count": 124,
   "id": "227e4a38",
   "metadata": {},
   "outputs": [
    {
     "name": "stdout",
     "output_type": "stream",
     "text": [
      "Voce possui 24 anos\n"
     ]
    }
   ],
   "source": [
    "birth_year = input(\"Qual o seu ano de nascimento?\")\n",
    "birth_year = int(birth_year)\n",
    "\n",
    "age = 2024 - birth_year\n",
    "print(f\"Voce possui {age} anos\")"
   ]
  },
  {
   "cell_type": "markdown",
   "id": "423e0da3",
   "metadata": {},
   "source": [
    "## Operadores de Comparação  \n",
    "Os operadores de comparação são aqueles que possuem o objetivo de analisar os valores de uma expressão e retornar um valor booleano, ou seja, verdadeiro (1) ou falso (0).\n",
    "\n",
    "**Operadores de comparação**\n",
    "\n",
    "|     Operador    |           Nome          |     Função                                              |\n",
    "|:---------------:|:-----------------------:|---------------------------------------------------------|\n",
    "|        ==       |         Igual   a       |     Verifica   se um valor é igual ao outro             |\n",
    "|        !=       |      Diferente   de     |     Verifica   se um valor é diferente ao outro         |\n",
    "|         >       |        Maior   que      |     Verifica   se um valor é maior que outro            |\n",
    "|        >=       |     Maior   ou igual    |     Verifica   se um valor é maior ou igual ao outro    |\n",
    "|         <       |        Menor   que      |     Verifica   se um valor é menor que outro            |\n",
    "|        <=       |     Menor   ou igual    |     Verifica   se um valor é menor ou igual ao outro    |"
   ]
  },
  {
   "cell_type": "code",
   "execution_count": 95,
   "id": "c04d8858",
   "metadata": {},
   "outputs": [
    {
     "data": {
      "text/plain": [
       "True"
      ]
     },
     "execution_count": 95,
     "metadata": {},
     "output_type": "execute_result"
    }
   ],
   "source": [
    "3 > 2"
   ]
  },
  {
   "cell_type": "code",
   "execution_count": 96,
   "id": "da130611",
   "metadata": {},
   "outputs": [
    {
     "name": "stdout",
     "output_type": "stream",
     "text": [
      "True\n"
     ]
    }
   ],
   "source": [
    "print(3 > 2)"
   ]
  },
  {
   "cell_type": "code",
   "execution_count": 97,
   "id": "6b195a66",
   "metadata": {},
   "outputs": [
    {
     "name": "stdout",
     "output_type": "stream",
     "text": [
      "False\n"
     ]
    }
   ],
   "source": [
    "print(3 < 2)"
   ]
  },
  {
   "cell_type": "code",
   "execution_count": 98,
   "id": "941af887",
   "metadata": {},
   "outputs": [
    {
     "name": "stdout",
     "output_type": "stream",
     "text": [
      "False\n"
     ]
    }
   ],
   "source": [
    "print(3 <= 2)"
   ]
  },
  {
   "cell_type": "code",
   "execution_count": 99,
   "id": "04701356",
   "metadata": {},
   "outputs": [
    {
     "name": "stdout",
     "output_type": "stream",
     "text": [
      "True\n"
     ]
    }
   ],
   "source": [
    "print(3 >= 3)"
   ]
  },
  {
   "cell_type": "code",
   "execution_count": 100,
   "id": "a980cf46",
   "metadata": {},
   "outputs": [
    {
     "name": "stdout",
     "output_type": "stream",
     "text": [
      "False\n"
     ]
    }
   ],
   "source": [
    "print(3 > 3)"
   ]
  },
  {
   "cell_type": "code",
   "execution_count": 105,
   "id": "087160a3",
   "metadata": {},
   "outputs": [
    {
     "name": "stdout",
     "output_type": "stream",
     "text": [
      "False\n"
     ]
    }
   ],
   "source": [
    "print(3 < 3)"
   ]
  },
  {
   "cell_type": "code",
   "execution_count": 107,
   "id": "0890d9d4",
   "metadata": {},
   "outputs": [
    {
     "ename": "SyntaxError",
     "evalue": "expression cannot contain assignment, perhaps you meant \"==\"? (2537435309.py, line 1)",
     "output_type": "error",
     "traceback": [
      "\u001b[0;36m  Cell \u001b[0;32mIn[107], line 1\u001b[0;36m\u001b[0m\n\u001b[0;31m    print(3 = 2) # estamos tentando fazer uma atribuição e nao uma comparação\u001b[0m\n\u001b[0m          ^\u001b[0m\n\u001b[0;31mSyntaxError\u001b[0m\u001b[0;31m:\u001b[0m expression cannot contain assignment, perhaps you meant \"==\"?\n"
     ]
    }
   ],
   "source": [
    "print(3 = 2) # estamos tentando fazer uma atribuição e nao uma comparação\n",
    "# a mensagem esta mais detalhada porque é devido ao uso de uma versão mais recente do python"
   ]
  },
  {
   "cell_type": "code",
   "execution_count": 104,
   "id": "cdedeb84",
   "metadata": {},
   "outputs": [
    {
     "name": "stdout",
     "output_type": "stream",
     "text": [
      "False\n"
     ]
    }
   ],
   "source": [
    "print(3 == 2)"
   ]
  },
  {
   "cell_type": "code",
   "execution_count": 108,
   "id": "852ce5dc",
   "metadata": {},
   "outputs": [
    {
     "name": "stdout",
     "output_type": "stream",
     "text": [
      "True\n"
     ]
    }
   ],
   "source": [
    "print(3 == 3)"
   ]
  },
  {
   "cell_type": "code",
   "execution_count": 109,
   "id": "6c347e09",
   "metadata": {},
   "outputs": [
    {
     "name": "stdout",
     "output_type": "stream",
     "text": [
      "True\n"
     ]
    }
   ],
   "source": [
    "print(3 != 2)"
   ]
  },
  {
   "cell_type": "code",
   "execution_count": 110,
   "id": "3ce95027",
   "metadata": {},
   "outputs": [
    {
     "ename": "SyntaxError",
     "evalue": "invalid syntax (2378862413.py, line 1)",
     "output_type": "error",
     "traceback": [
      "\u001b[0;36m  Cell \u001b[0;32mIn[110], line 1\u001b[0;36m\u001b[0m\n\u001b[0;31m    print(3 =! 2)\u001b[0m\n\u001b[0m             ^\u001b[0m\n\u001b[0;31mSyntaxError\u001b[0m\u001b[0;31m:\u001b[0m invalid syntax\n"
     ]
    }
   ],
   "source": [
    "print(3 =! 2) # só possui uma forma de escrever o diferente"
   ]
  },
  {
   "cell_type": "markdown",
   "id": "c7e1072f",
   "metadata": {},
   "source": [
    "**Bora praticar!**  \n",
    "Imagine que você está implementando um sistema para verificar se os alunos de uma turma estudantil passaram na disciplina ou não. Para isso solicite que o usuário insira as notas das 4 provas realizadas por um estudante e calcule a média. Após isso, emita uma resposta booleana (True ou False) se o estudante passou na disciplina pensando que a média mínima para aprovação é que seja pelo menos 5."
   ]
  },
  {
   "cell_type": "code",
   "execution_count": 131,
   "id": "970f58f3",
   "metadata": {},
   "outputs": [
    {
     "name": "stdout",
     "output_type": "stream",
     "text": [
      "Aprovado? True\n"
     ]
    }
   ],
   "source": [
    "grade_1 = input(\"Nota 1:\")\n",
    "grade_2 = input(\"Nota 2:\")\n",
    "grade_3 = input(\"Nota 3:\")\n",
    "grade_4 = input(\"Nota 4:\")\n",
    "\n",
    "grade_1 = float(grade_1)\n",
    "grade_2 = float(grade_2)\n",
    "grade_3 = float(grade_3)\n",
    "grade_4 = float(grade_4)\n",
    "\n",
    "sum = grade_1 + grade_2 + grade_3 + grade_4\n",
    "\n",
    "medium = sum/4\n",
    "\n",
    "print(f\"Aprovado? {medium >= 5}\")"
   ]
  },
  {
   "cell_type": "markdown",
   "id": "57b1c875",
   "metadata": {},
   "source": [
    "Crie um algoritmo que calcule o IMC (índice de massa corporal). O IMC é calculado com a formula PESO/(ALTURA ^ 2). Para isso, coloque as informações nas variáveis e ao final apresente o resultado como no exemplo: \"O IMC é 18\""
   ]
  },
  {
   "cell_type": "code",
   "execution_count": 122,
   "id": "5f01e70b",
   "metadata": {},
   "outputs": [
    {
     "name": "stdout",
     "output_type": "stream",
     "text": [
      "O valor do seu IMC é 20.57\n"
     ]
    }
   ],
   "source": [
    "height = input(\"Qual a sua altura?\")\n",
    "weight = input(\"Qual o seu peso?\")\n",
    "\n",
    "height = float(height)\n",
    "weight = float(weight)\n",
    "\n",
    "imc = weight / (height ** 2)\n",
    "\n",
    "print(\"O valor do seu IMC é %.2f\"%(imc))"
   ]
  },
  {
   "cell_type": "code",
   "execution_count": 132,
   "id": "84cfce4d",
   "metadata": {},
   "outputs": [
    {
     "name": "stdout",
     "output_type": "stream",
     "text": [
      "O valor do seu IMC é 26.87\n"
     ]
    }
   ],
   "source": [
    "height = input(\"Qual a sua altura?\")\n",
    "weight = input(\"Qual o seu peso?\")\n",
    "\n",
    "height = float(height)\n",
    "weight = float(weight)\n",
    "\n",
    "imc = weight / (height ** 2)\n",
    "\n",
    "print(f\"O valor do seu IMC é {imc:.2f}\")"
   ]
  },
  {
   "cell_type": "markdown",
   "id": "7e0e1ca3",
   "metadata": {},
   "source": [
    "Escreva um algoritmo que calcule (x + y) * (x + y). Os valores de x e y devem ser inseridos pelo usuário"
   ]
  },
  {
   "cell_type": "code",
   "execution_count": 123,
   "id": "8b5c7977",
   "metadata": {},
   "outputs": [
    {
     "name": "stdout",
     "output_type": "stream",
     "text": [
      "O resultado da sua operaçao é 25.0\n"
     ]
    }
   ],
   "source": [
    "x = input(\"Insira o valor de x\")\n",
    "y = input(\"Insira o valor de y\")\n",
    "\n",
    "x = float(x)\n",
    "y = float(y)\n",
    "\n",
    "result = (x + y) * (x + y)\n",
    "\n",
    "print(f\"O resultado da sua operaçao é {result}\")"
   ]
  },
  {
   "cell_type": "code",
   "execution_count": null,
   "id": "b0035c54",
   "metadata": {},
   "outputs": [],
   "source": []
  }
 ],
 "metadata": {
  "kernelspec": {
   "display_name": "Python 3 (ipykernel)",
   "language": "python",
   "name": "python3"
  },
  "language_info": {
   "codemirror_mode": {
    "name": "ipython",
    "version": 3
   },
   "file_extension": ".py",
   "mimetype": "text/x-python",
   "name": "python",
   "nbconvert_exporter": "python",
   "pygments_lexer": "ipython3",
   "version": "3.8.19"
  }
 },
 "nbformat": 4,
 "nbformat_minor": 5
}
