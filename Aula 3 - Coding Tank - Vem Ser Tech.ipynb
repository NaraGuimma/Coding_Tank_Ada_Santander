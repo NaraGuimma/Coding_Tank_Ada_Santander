{
 "cells": [
  {
   "cell_type": "markdown",
   "id": "72cae5bf",
   "metadata": {},
   "source": [
    "<div style=\"background-color: black; padding: 18px;\">\n",
    "    <h1> Coding Tank | Vem Ser Tech \n",
    "</div>"
   ]
  },
  {
   "cell_type": "markdown",
   "id": "36ea7563",
   "metadata": {},
   "source": [
    "<div style=\"background-color: black; padding: 10px;\">\n",
    "    <h2> Tópicos da aula - AULA 3\n",
    "</div>\n",
    "    \n",
    "- Estruturas de repetição\n",
    "- Loop while"
   ]
  },
  {
   "cell_type": "markdown",
   "id": "e339739b",
   "metadata": {},
   "source": [
    "Na aula passada fizemos o programa que a pessoa digitava 2 números e a gente dizia o maior. E se quisermos saber qual o maior entre 3 valores? E se quisermos 10? E se quisermos 100? Conseguimos fazer?"
   ]
  },
  {
   "cell_type": "code",
   "execution_count": 76,
   "id": "3a4661d9",
   "metadata": {},
   "outputs": [
    {
     "ename": "KeyboardInterrupt",
     "evalue": "Interrupted by user",
     "output_type": "error",
     "traceback": [
      "\u001b[0;31m---------------------------------------------------------------------------\u001b[0m",
      "\u001b[0;31mKeyboardInterrupt\u001b[0m                         Traceback (most recent call last)",
      "Cell \u001b[0;32mIn[76], line 1\u001b[0m\n\u001b[0;32m----> 1\u001b[0m num1 \u001b[38;5;241m=\u001b[39m \u001b[38;5;28mint\u001b[39m(\u001b[38;5;28;43minput\u001b[39;49m\u001b[43m(\u001b[49m\u001b[38;5;124;43m\"\u001b[39;49m\u001b[38;5;124;43mDigite um número: \u001b[39;49m\u001b[38;5;124;43m\"\u001b[39;49m\u001b[43m)\u001b[49m)\n\u001b[1;32m      2\u001b[0m num2 \u001b[38;5;241m=\u001b[39m \u001b[38;5;28mint\u001b[39m(\u001b[38;5;28minput\u001b[39m(\u001b[38;5;124m\"\u001b[39m\u001b[38;5;124mDigite outro número: \u001b[39m\u001b[38;5;124m\"\u001b[39m))\n\u001b[1;32m      4\u001b[0m \u001b[38;5;28;01mif\u001b[39;00m num1 \u001b[38;5;241m>\u001b[39m num2:\n",
      "File \u001b[0;32m~/Library/Python/3.8/lib/python/site-packages/ipykernel/kernelbase.py:1282\u001b[0m, in \u001b[0;36mKernel.raw_input\u001b[0;34m(self, prompt)\u001b[0m\n\u001b[1;32m   1280\u001b[0m     msg \u001b[38;5;241m=\u001b[39m \u001b[38;5;124m\"\u001b[39m\u001b[38;5;124mraw_input was called, but this frontend does not support input requests.\u001b[39m\u001b[38;5;124m\"\u001b[39m\n\u001b[1;32m   1281\u001b[0m     \u001b[38;5;28;01mraise\u001b[39;00m StdinNotImplementedError(msg)\n\u001b[0;32m-> 1282\u001b[0m \u001b[38;5;28;01mreturn\u001b[39;00m \u001b[38;5;28;43mself\u001b[39;49m\u001b[38;5;241;43m.\u001b[39;49m\u001b[43m_input_request\u001b[49m\u001b[43m(\u001b[49m\n\u001b[1;32m   1283\u001b[0m \u001b[43m    \u001b[49m\u001b[38;5;28;43mstr\u001b[39;49m\u001b[43m(\u001b[49m\u001b[43mprompt\u001b[49m\u001b[43m)\u001b[49m\u001b[43m,\u001b[49m\n\u001b[1;32m   1284\u001b[0m \u001b[43m    \u001b[49m\u001b[38;5;28;43mself\u001b[39;49m\u001b[38;5;241;43m.\u001b[39;49m\u001b[43m_parent_ident\u001b[49m\u001b[43m[\u001b[49m\u001b[38;5;124;43m\"\u001b[39;49m\u001b[38;5;124;43mshell\u001b[39;49m\u001b[38;5;124;43m\"\u001b[39;49m\u001b[43m]\u001b[49m\u001b[43m,\u001b[49m\n\u001b[1;32m   1285\u001b[0m \u001b[43m    \u001b[49m\u001b[38;5;28;43mself\u001b[39;49m\u001b[38;5;241;43m.\u001b[39;49m\u001b[43mget_parent\u001b[49m\u001b[43m(\u001b[49m\u001b[38;5;124;43m\"\u001b[39;49m\u001b[38;5;124;43mshell\u001b[39;49m\u001b[38;5;124;43m\"\u001b[39;49m\u001b[43m)\u001b[49m\u001b[43m,\u001b[49m\n\u001b[1;32m   1286\u001b[0m \u001b[43m    \u001b[49m\u001b[43mpassword\u001b[49m\u001b[38;5;241;43m=\u001b[39;49m\u001b[38;5;28;43;01mFalse\u001b[39;49;00m\u001b[43m,\u001b[49m\n\u001b[1;32m   1287\u001b[0m \u001b[43m\u001b[49m\u001b[43m)\u001b[49m\n",
      "File \u001b[0;32m~/Library/Python/3.8/lib/python/site-packages/ipykernel/kernelbase.py:1325\u001b[0m, in \u001b[0;36mKernel._input_request\u001b[0;34m(self, prompt, ident, parent, password)\u001b[0m\n\u001b[1;32m   1322\u001b[0m \u001b[38;5;28;01mexcept\u001b[39;00m \u001b[38;5;167;01mKeyboardInterrupt\u001b[39;00m:\n\u001b[1;32m   1323\u001b[0m     \u001b[38;5;66;03m# re-raise KeyboardInterrupt, to truncate traceback\u001b[39;00m\n\u001b[1;32m   1324\u001b[0m     msg \u001b[38;5;241m=\u001b[39m \u001b[38;5;124m\"\u001b[39m\u001b[38;5;124mInterrupted by user\u001b[39m\u001b[38;5;124m\"\u001b[39m\n\u001b[0;32m-> 1325\u001b[0m     \u001b[38;5;28;01mraise\u001b[39;00m \u001b[38;5;167;01mKeyboardInterrupt\u001b[39;00m(msg) \u001b[38;5;28;01mfrom\u001b[39;00m \u001b[38;5;28;01mNone\u001b[39;00m\n\u001b[1;32m   1326\u001b[0m \u001b[38;5;28;01mexcept\u001b[39;00m \u001b[38;5;167;01mException\u001b[39;00m:\n\u001b[1;32m   1327\u001b[0m     \u001b[38;5;28mself\u001b[39m\u001b[38;5;241m.\u001b[39mlog\u001b[38;5;241m.\u001b[39mwarning(\u001b[38;5;124m\"\u001b[39m\u001b[38;5;124mInvalid Message:\u001b[39m\u001b[38;5;124m\"\u001b[39m, exc_info\u001b[38;5;241m=\u001b[39m\u001b[38;5;28;01mTrue\u001b[39;00m)\n",
      "\u001b[0;31mKeyboardInterrupt\u001b[0m: Interrupted by user"
     ]
    }
   ],
   "source": [
    "num1 = int(input(\"Digite um número: \"))\n",
    "num2 = int(input(\"Digite outro número: \"))\n",
    "\n",
    "if num1 > num2:\n",
    "    print(f'O maior valor entre eles é {num1}')\n",
    "elif num2 > num1:\n",
    "    print(f'O maior valor entre eles é {num2}')\n",
    "else:\n",
    "    print(f\"Os números são iguais e tem o valor de {num1}\")"
   ]
  },
  {
   "cell_type": "code",
   "execution_count": null,
   "id": "370b6564",
   "metadata": {},
   "outputs": [
    {
     "name": "stdout",
     "output_type": "stream",
     "text": [
      "O maior numero dentre os tres é o 9\n"
     ]
    }
   ],
   "source": [
    "numero1 = input(\"Entre com o primeiro numero inteiro: \")\n",
    "numero1 = int(numero1)\n",
    "numero2 = input(\"Entre com o segundo numero inteiro: \")\n",
    "numero2 = int(numero2)\n",
    "numero3 = input(\"Entre com o terceiro numero inteiro: \")\n",
    "numero3 = int(numero3)\n",
    "if numero1 >  numero2 and numero1 > numero3:\n",
    "    print(f\"O maior numero dentre os tres é o {numero1}\")\n",
    "elif numero2 > numero1 and numero2 > numero3:\n",
    "    print(f\"O maior numero dentre os tres é o {numero2}\")\n",
    "elif numero3 > numero1 and numero3 > numero2:\n",
    "    print(f\"O maior numero dentre os tres é o {numero3}\")   \n",
    "else:\n",
    "    print(\"Os numeros inseridos sao iguais\") "
   ]
  },
  {
   "cell_type": "markdown",
   "id": "2a9d1a2f",
   "metadata": {},
   "source": [
    "nao é uma solução escalável o uso dos if's e inclusao dos inputs para cada número que adicionarmos"
   ]
  },
  {
   "cell_type": "markdown",
   "id": "3fe6e9ae",
   "metadata": {},
   "source": [
    "# Estruturas de Repetição\n",
    "\n",
    "Um **if** não garante que eu consigo validar o valor de um campo pois se o usuário não acertar na 2a vez, ele seguirá inválido"
   ]
  },
  {
   "cell_type": "code",
   "execution_count": null,
   "id": "3045daff",
   "metadata": {},
   "outputs": [],
   "source": [
    "salario = input(\"Digite o seu salário: \")\n",
    "salario = float(salario)\n",
    "\n",
    "if salario < 1412:\n",
    "    salario = input(\"Digite invalido, digite novamente o seu salário: \")\n",
    "else:\n",
    "    print(\"valido\", salario)"
   ]
  },
  {
   "cell_type": "markdown",
   "id": "d1be0c2e",
   "metadata": {},
   "source": [
    "se o segundo for maior que 1412, ele nao faz mais nada"
   ]
  },
  {
   "cell_type": "code",
   "execution_count": null,
   "id": "df254367",
   "metadata": {},
   "outputs": [
    {
     "name": "stdout",
     "output_type": "stream",
     "text": [
      "valido 10000.0\n"
     ]
    }
   ],
   "source": [
    "salario = float(input(\"Digite o seu salário: \"))\n",
    "\n",
    "while salario < 1412: # ate que haja uma entrada valida, dai havera a saida do laço\n",
    "    salario = float(input(\"Digite invalido, digite novamente o seu salário: \"))\n",
    "\n",
    "print(\"valido\", salario)"
   ]
  },
  {
   "cell_type": "markdown",
   "id": "04103985",
   "metadata": {},
   "source": [
    "__Obs.__: SEMPRE que eu trabalho com estrutura de repetição (**WHILE**) é NECESSÁRIO que a condição seja alterada dentro do while, SENÃO entro em looping infinito"
   ]
  },
  {
   "cell_type": "markdown",
   "id": "541e4a88",
   "metadata": {},
   "source": [
    "<div style=\"background-color: red; padding: 10px;\">\n",
    "    <h2> CUIDADO AO RODAR - é um loop infinito\n",
    "</div>"
   ]
  },
  {
   "cell_type": "markdown",
   "id": "609fb4d6",
   "metadata": {},
   "source": [
    "em notebook (.ipynb), podemos acabar perdendo o mesmo caso haja um loop que fique sendo executado muito tempo"
   ]
  },
  {
   "cell_type": "code",
   "execution_count": null,
   "id": "44c98aa4",
   "metadata": {},
   "outputs": [],
   "source": [
    "salario = float(input(\"Digite o seu salário: \"))\n",
    "\n",
    "contador = 0\n",
    "\n",
    "while salario < 900: \n",
    "    salario = float(input(\"Digite invalido, digite novamente o seu salário: \"))\n",
    "    print(salario)\n",
    "    contador += 1 # condicao que aumenta o valor do contador, usado bastante em retries\n",
    "    if contador > 30: # verifica quantas vezes o contador foi adicionado\n",
    "        break # sendo maior que 30 ele entra no if e sai do laço pelo break\n",
    "\n",
    "print(\"valido\", salario)"
   ]
  },
  {
   "cell_type": "code",
   "execution_count": null,
   "id": "dda1fea4",
   "metadata": {},
   "outputs": [
    {
     "name": "stdout",
     "output_type": "stream",
     "text": [
      "O maior valor é 30\n",
      "O maior valor é 30\n",
      "O maior valor digitado foi 30\n"
     ]
    }
   ],
   "source": [
    "numero = int(input(\"Digite um numero: \"))\n",
    "maior = numero\n",
    "while numero != 0:\n",
    "    numero = int(input(\"Digite um outro numero: \"))\n",
    "    if numero > maior: # importante a verificação para fazer a comparaçao \n",
    "        maior = numero\n",
    "    print(f\"O maior valor é {maior}\")\n",
    "print(f\"O maior valor digitado foi {maior}\")\n"
   ]
  },
  {
   "cell_type": "code",
   "execution_count": null,
   "id": "b4dab73d",
   "metadata": {},
   "outputs": [
    {
     "name": "stdout",
     "output_type": "stream",
     "text": [
      "O maior valor é 9\n",
      "O maior valor digitado foi 9\n"
     ]
    }
   ],
   "source": [
    "numero = int(input(\"Digite um numero: \"))\n",
    "maior = numero\n",
    "while numero != 0:\n",
    "    if numero > maior: # importante a verificação para fazer a comparaçao, recomendaçao: colocar sempre as validacoes antes das atribuicoes \n",
    "        maior = numero\n",
    "    print(f\"O maior valor é {maior}\")\n",
    "    numero = int(input(\"Digite um outro numero: \"))\n",
    "print(f\"O maior valor digitado foi {maior}\")\n"
   ]
  },
  {
   "cell_type": "markdown",
   "id": "b5f4c9f2",
   "metadata": {},
   "source": [
    "__Exemplo:__ Some todos os números de 0 a um número digitado pelo usuário"
   ]
  },
  {
   "cell_type": "code",
   "execution_count": null,
   "id": "85036462",
   "metadata": {},
   "outputs": [],
   "source": [
    "# vamos digitar 4:\n",
    "\n",
    "# 0 + 1 + 2 + 3 + 4 = 10\n",
    "\n",
    "# 4 + 3 + 2 + 1 + 0 = 10\n",
    "\n",
    "# digitar 3:\n",
    "\n",
    "# 0 + 1 + 2 + 3 = 6\n",
    "\n",
    "# digitar 7:\n",
    "\n",
    "# 0 + 1 + 2 + 3 + 4 + 5 + 6 + 7 = 28"
   ]
  },
  {
   "cell_type": "code",
   "execution_count": null,
   "id": "7fb0b16a",
   "metadata": {},
   "outputs": [
    {
     "name": "stdout",
     "output_type": "stream",
     "text": [
      "7\n",
      "6\n",
      "5\n",
      "4\n",
      "3\n",
      "2\n",
      "1\n",
      "0\n",
      "A soma é 36\n"
     ]
    }
   ],
   "source": [
    "soma = 0\n",
    "\n",
    "numero = int(input(\"Digite um numero inteiro positivo: \"))\n",
    "\n",
    "while numero > 0:\n",
    "    soma += numero\n",
    "    numero -= 1\n",
    "    print(numero)\n",
    "print(f\"A soma é {soma}\")\n"
   ]
  },
  {
   "cell_type": "code",
   "execution_count": null,
   "id": "559afceb",
   "metadata": {},
   "outputs": [
    {
     "name": "stdout",
     "output_type": "stream",
     "text": [
      "Soma total dos seus 3 números é igual a 6\n"
     ]
    }
   ],
   "source": [
    "contador = 0\n",
    "numeros = int(input(\"Quantos numeros voce deseja somar?\"))\n",
    "soma = 0\n",
    "while not (contador == numeros):\n",
    "    contador += 1\n",
    "    numero = int(input(f\"Entre com o seu {contador}o numero: \"))\n",
    "    soma += numero\n",
    "print(f\"Soma total dos seus {numeros} números é igual a {soma}\")"
   ]
  },
  {
   "cell_type": "code",
   "execution_count": null,
   "id": "6a859a59",
   "metadata": {},
   "outputs": [
    {
     "name": "stdout",
     "output_type": "stream",
     "text": [
      "Valor atual da soma 0\n",
      "Valor atualizado da soma 0\n",
      "Valor atual do contador 0\n",
      "Valor atualizado do contador 1\n",
      "Valor atual da soma 0\n",
      "Valor atualizado da soma 1\n",
      "Valor atual do contador 1\n",
      "Valor atualizado do contador 2\n",
      "Valor atual da soma 1\n",
      "Valor atualizado da soma 3\n",
      "Valor atual do contador 2\n",
      "Valor atualizado do contador 3\n",
      "Valor atual da soma 3\n",
      "Valor atualizado da soma 6\n",
      "Valor atual do contador 3\n",
      "Valor atualizado do contador 4\n",
      "Valor atual da soma 6\n",
      "Valor atualizado da soma 10\n",
      "Valor atual do contador 4\n",
      "Valor atualizado do contador 5\n",
      "Valor total da soma é 10\n"
     ]
    }
   ],
   "source": [
    "soma = 0\n",
    "contador = 0\n",
    "limite = int(input(\"Digite um número inteiro: \"))\n",
    "\n",
    "while contador <= limite:\n",
    "    print(f\"Valor atual da soma {soma}\")\n",
    "    soma += contador\n",
    "    print(f\"Valor atualizado da soma {soma}\")\n",
    "\n",
    "    print(f\"Valor atual do contador {contador}\")\n",
    "    contador += 1\n",
    "    print(f\"Valor atualizado do contador {contador}\") # importante sempre colocar os prints para validacão\n",
    "print(f\"Valor total da soma é {soma}\")"
   ]
  },
  {
   "cell_type": "code",
   "execution_count": null,
   "id": "298d9fe4",
   "metadata": {},
   "outputs": [
    {
     "name": "stdout",
     "output_type": "stream",
     "text": [
      "0 + 0 = 0\n",
      "\n",
      "1 + 1 = 1\n",
      "\n",
      "3 + 2 = 3\n",
      "\n",
      "6 + 3 = 6\n",
      "\n"
     ]
    }
   ],
   "source": [
    "soma = 0\n",
    "contador = 0\n",
    "\n",
    "limite = int(input('Digite um número: '))\n",
    "\n",
    "while (contador <= limite):\n",
    "    soma += contador\n",
    "    print(soma, '+', contador , '=', soma)\n",
    "    contador += 1\n",
    "    print()"
   ]
  },
  {
   "cell_type": "markdown",
   "id": "a54f1580",
   "metadata": {},
   "source": [
    "Uma outra forma de incrementar um variável"
   ]
  },
  {
   "cell_type": "code",
   "execution_count": null,
   "id": "410cca56",
   "metadata": {},
   "outputs": [
    {
     "name": "stdout",
     "output_type": "stream",
     "text": [
      "8 + 7 + 6 + 5 + 4 + 3 + 2 + 1 + 0 = 36"
     ]
    }
   ],
   "source": [
    "soma = 0\n",
    "solucao = ''\n",
    "numero = int(input(\"Digite um numero inteiro positivo: \"))\n",
    "\n",
    "while numero > 0:\n",
    "    solucao += str(numero) + ' + '\n",
    "    soma += numero\n",
    "    numero -= 1\n",
    "print(solucao, end = f\"0 = {soma}\")\n"
   ]
  },
  {
   "cell_type": "code",
   "execution_count": null,
   "id": "36479809",
   "metadata": {},
   "outputs": [
    {
     "name": "stdout",
     "output_type": "stream",
     "text": [
      "10987654321\n",
      "10 9 8 7 6 5 4 3 2 1 \n",
      "10-9-8-7-6-5-4-3-2-1-\n",
      "10casa9casa8casa7casa6casa5casa4casa3casa2casa1casa"
     ]
    }
   ],
   "source": [
    "# uso do end\n",
    "num = 10\n",
    "while num > 0:\n",
    "    print(num, end='')\n",
    "    num -= 1\n",
    "print()\n",
    "\n",
    "num = 10\n",
    "while num > 0:\n",
    "    print(num, end=' ')\n",
    "    num -= 1\n",
    "print()\n",
    "\n",
    "num = 10\n",
    "while num > 0:\n",
    "    print(num, end='-')\n",
    "    num -= 1\n",
    "print()\n",
    "\n",
    "num = 10\n",
    "while num > 0:\n",
    "    print(num, end='casa')\n",
    "    num -= 1"
   ]
  },
  {
   "cell_type": "markdown",
   "id": "fff96799",
   "metadata": {},
   "source": [
    "# Alguns comandos de manipulação de fluxo\n",
    "\n",
    "Comando **break**: Utilizado para interromper a execução de um laço (for ou while) antes que ele termine normalmente.\n",
    "\n",
    "```python\n",
    "for item in sequencia:\n",
    "    if condicao:\n",
    "        break\n",
    "```\n",
    "\n",
    "Comando **continue**: Utilizado para pular a iteração atual de um laço e continuar com a próxima iteração.\n",
    "\n",
    "\n",
    "```python\n",
    "for item in sequencia:\n",
    "    if condicao:\n",
    "        continue\n",
    "    # O código aqui será executado apenas se a condição for falsa\n",
    "```\n",
    "   \n",
    "Comando **pass**: É usado como espaço reservado para código futuro. Não faz nada e é frequentemente usado para evitar erros de sintaxe em blocos vazios.\n",
    "\n",
    "```python\n",
    "if condicao:\n",
    "    pass  # código será adicionado posteriormente\n",
    "\n",
    "```"
   ]
  },
  {
   "cell_type": "markdown",
   "id": "07ed062c",
   "metadata": {},
   "source": [
    "Neste exercício, você deve criar um jogo simples em que o jogador tenta adivinhar um número secreto. O jogo continua até o jogador adivinhar corretamente ou desistir."
   ]
  },
  {
   "cell_type": "code",
   "execution_count": null,
   "id": "ac1011cc",
   "metadata": {},
   "outputs": [
    {
     "name": "stdout",
     "output_type": "stream",
     "text": [
      "Número digitado menor que o secreto, tente novamente\n",
      "Número digitado maior que o secreto, tente novamente\n",
      "Número digitado maior que o secreto, tente novamente\n",
      "Parabéns voce adivinhou o numero secreto:\n"
     ]
    }
   ],
   "source": [
    "numero_secreto = 42\n",
    "\n",
    "while True:\n",
    "    numero_adivinhado = int(input(\"Adivinhe o numero secreto: \"))\n",
    "    if numero_adivinhado == numero_secreto:\n",
    "        print(\"Parabéns voce adivinhou o numero secreto:\")\n",
    "        break\n",
    "    elif numero_adivinhado < numero_secreto:\n",
    "        print(\"Número digitado menor que o secreto, tente novamente\")\n",
    "    else:\n",
    "        print(\"Número digitado maior que o secreto, tente novamente\")        "
   ]
  },
  {
   "cell_type": "markdown",
   "id": "bc0eb076",
   "metadata": {},
   "source": [
    "**Bora praticar!**\n",
    "\n",
    "1) Escreva um programa que solicite um número inteiro e imprima na tela todos os números de 1 até o número digitado, separado por espaços.  \n",
    "_Exemplo_  \n",
    "número digitado: 5  \n",
    "resultado esperado: 1 2 3 4 5\n",
    "\n",
    "2) Faça um programa que mostre o fatorial de um número digitado.  \n",
    "_Exemplo_  \n",
    "número digitado: 5  \n",
    "resultado esperado: 120\n",
    "\n",
    "3) Faça um programa que imprima a tabuada do 9 na tela (entre 1 e 10). Insira a conta, por exemplo, 9 * 1 = 9, sendo cada um dos valores em uma linha diferente.\n",
    "\n",
    "4) Faça um programa em que o usuário digite números quaisquer e encerrará no momento em que o valor 0 seja digitado. Ao final diga qual foi o maior número digitado.\n",
    "\n",
    "5) Faça um script que peça para o usuário digitar a idade, o salário e o sexo de uma pessoa até que as entradas digitadas sejam válidas.  \n",
    "  \n",
    "a. Idade: entre 0 e 150  \n",
    "b. Salário: maior que 0  \n",
    "c. Gênero: M, F ou Outro  \n",
    "  \n",
    "Por último imprima os dados recebidos do usuário.\n",
    "\n",
    "6) Faça uma calculadora. O usuário deve inserir qual a operação matemática ele deseja realizar e logo em seguida os dois números. O programa deve finalizar apenas quando o usuário digitar a opção \"sair\" no momento de escolha da operação matemática.\n",
    "\n"
   ]
  },
  {
   "cell_type": "markdown",
   "id": "647738a0",
   "metadata": {},
   "source": [
    "## Resolução\n",
    "\n",
    "Coloque a solução dos exercícios abaixo no dontpad.com/turma922\n",
    "\n",
    "\n",
    "1) Escreva um programa que solicite um número inteiro e imprima na tela todos os números de 1 até o número digitado, separado por espaços.  \n",
    "_Exemplo_  \n",
    "número digitado: 5  \n",
    "resultado esperado: 1 2 3 4 5"
   ]
  },
  {
   "cell_type": "code",
   "execution_count": null,
   "id": "9cbf8278",
   "metadata": {},
   "outputs": [
    {
     "name": "stdout",
     "output_type": "stream",
     "text": [
      "1 2 3 4 5 6 7 8 9 "
     ]
    }
   ],
   "source": [
    "num = int(input(\"Digite um número inteiro: \"))\n",
    "i = 1\n",
    "while i <= num:\n",
    "    print(i, end=' ')\n",
    "    i += 1\n"
   ]
  },
  {
   "cell_type": "code",
   "execution_count": null,
   "id": "5aa4bc81",
   "metadata": {},
   "outputs": [
    {
     "name": "stdout",
     "output_type": "stream",
     "text": [
      "1 2 3 4 5 6 "
     ]
    }
   ],
   "source": [
    "i = 1\n",
    "num = int(input(\"Digite um número inteiro: \"))\n",
    "while True:\n",
    "    print(i, end=' ')\n",
    "    i += 1\n",
    "    if i > num:\n",
    "        break\n"
   ]
  },
  {
   "cell_type": "markdown",
   "id": "c3814815",
   "metadata": {},
   "source": [
    "2) Faça um programa que mostre o fatorial de um número digitado.  \n",
    "_Exemplo_  \n",
    "número digitado: 5  \n",
    "resultado esperado: 120"
   ]
  },
  {
   "cell_type": "code",
   "execution_count": 78,
   "id": "dd7e7095",
   "metadata": {},
   "outputs": [
    {
     "name": "stdout",
     "output_type": "stream",
     "text": [
      "O valor do fatorial de 0 é 1\n"
     ]
    }
   ],
   "source": [
    "fatorial = 1\n",
    "while True:\n",
    "    numero_inicial = input(\"Entre com um numero inteiro positivo: \")\n",
    "    if numero_inicial.isdigit():\n",
    "        numero = int(numero_inicial)\n",
    "        for i in range(numero, 1, -1):\n",
    "            fatorial *= i \n",
    "        break\n",
    "    else:\n",
    "        print(\"Nao é um inteiro positivo\")\n",
    "\n",
    "print(f\"O valor do fatorial de {numero_inicial} é {fatorial}\")\n"
   ]
  },
  {
   "cell_type": "code",
   "execution_count": null,
   "id": "25de583b",
   "metadata": {},
   "outputs": [
    {
     "name": "stdout",
     "output_type": "stream",
     "text": [
      "O valor do fatorial de 4 é 24\n"
     ]
    }
   ],
   "source": [
    "fatorial = 1\n",
    "i = 1\n",
    "numero = int(input(\"Entre com um numero inteiro positivo: \"))\n",
    "while True:\n",
    "    if i <= numero:\n",
    "        fatorial *= i\n",
    "        i += 1\n",
    "    else:\n",
    "        break\n",
    "\n",
    "print(f\"O valor do fatorial de {numero} é {fatorial}\")\n"
   ]
  },
  {
   "cell_type": "markdown",
   "id": "8edfd4c8",
   "metadata": {},
   "source": [
    "3) Faça um programa que imprima a tabuada do 9 na tela (entre 1 e 10). Insira a conta, por exemplo, 9 * 1 = 9, sendo cada um dos valores em uma linha diferente."
   ]
  },
  {
   "cell_type": "code",
   "execution_count": 77,
   "id": "e8ef1a39",
   "metadata": {},
   "outputs": [
    {
     "name": "stdout",
     "output_type": "stream",
     "text": [
      "9 * 1 = 9 * 1\n",
      "9 * 2 = 9 * 2\n",
      "9 * 3 = 9 * 3\n",
      "9 * 4 = 9 * 4\n",
      "9 * 5 = 9 * 5\n",
      "9 * 6 = 9 * 6\n",
      "9 * 7 = 9 * 7\n",
      "9 * 8 = 9 * 8\n",
      "9 * 9 = 9 * 9\n",
      "9 * 10 = 9 * 10\n"
     ]
    }
   ],
   "source": [
    "numero = 9\n",
    "i = 1\n",
    "while i <= 10:\n",
    "    print(f\"{numero} * {i} = \", end = f\"{numero} * {i}\")\n",
    "    print()\n",
    "    i += 1"
   ]
  },
  {
   "cell_type": "markdown",
   "id": "c07b56c5",
   "metadata": {},
   "source": [
    "4) Faça um programa em que o usuário digite números quaisquer e encerrará no momento em que o valor 0 seja digitado. Ao final diga qual foi o maior número digitado."
   ]
  },
  {
   "cell_type": "code",
   "execution_count": 79,
   "id": "55403094",
   "metadata": {},
   "outputs": [
    {
     "name": "stdout",
     "output_type": "stream",
     "text": [
      "O maior valor digitado foi o número 100\n"
     ]
    }
   ],
   "source": [
    "numero = int(input(\"Entre com um numero inteiro maior que zero: \"))\n",
    "maior = numero\n",
    "while numero != 0:\n",
    "    numero = int(input(\"Entre com um numero inteiro maior que zero: \"))\n",
    "    if numero > maior:\n",
    "        maior = numero\n",
    "print(f\"O maior valor digitado foi o número {maior}\")"
   ]
  },
  {
   "cell_type": "markdown",
   "id": "7fd3a936",
   "metadata": {},
   "source": [
    "5) Faça um script que peça para o usuário digitar a idade, o salário e o sexo de uma pessoa até que as entradas digitadas sejam válidas.  \n",
    "  \n",
    "a. Idade: entre 0 e 150  \n",
    "b. Salário: maior que 0  \n",
    "c. Gênero: M, F ou Outro  \n",
    "  \n",
    "Por último imprima os dados recebidos do usuário."
   ]
  },
  {
   "cell_type": "code",
   "execution_count": 85,
   "id": "406e274f",
   "metadata": {},
   "outputs": [
    {
     "name": "stdout",
     "output_type": "stream",
     "text": [
      "Sexo inserido incorreto\n"
     ]
    }
   ],
   "source": [
    "while True:\n",
    "    idade = int(input(\"Qual a sua idade?\"))\n",
    "    if idade < 0 or idade > 150:\n",
    "        print(\"Idade inserida incorreta\")\n",
    "        break\n",
    "    salario = float(input(\"Qual o seu salario?\"))\n",
    "    if salario < 0:\n",
    "        print(\"Salario inserido incorreto\")\n",
    "        break\n",
    "    sexo = input(\"Qual o seu sexo?\")\n",
    "    if sexo.upper() != 'M' and sexo.upper() != 'F' and sexo.upper() != 'OUTRO':\n",
    "        print(\"Sexo inserido incorreto\")\n",
    "        break"
   ]
  },
  {
   "cell_type": "markdown",
   "id": "51a71f3b",
   "metadata": {},
   "source": [
    "6) Faça uma calculadora. O usuário deve inserir qual a operação matemática ele deseja realizar e logo em seguida os dois números. O programa deve finalizar apenas quando o usuário digitar a opção \"sair\" no momento de escolha da operação matemática."
   ]
  },
  {
   "cell_type": "code",
   "execution_count": null,
   "id": "89a81b8e",
   "metadata": {},
   "outputs": [
    {
     "name": "stdout",
     "output_type": "stream",
     "text": [
      "O resultado da operação 10.0 / 5.0 é: 2.0\n"
     ]
    }
   ],
   "source": [
    "operacao = input(\"Digite a operação (+, -, *, /): \")\n",
    "num1 = float(input(\"Digite o primeiro número: \"))\n",
    "num2 = float(input(\"Digite o segundo número: \"))\n",
    "\n",
    "if operacao == '+':\n",
    "    resultado = num1 + num2\n",
    "elif operacao == '-':\n",
    "    resultado = num1 - num2\n",
    "elif operacao == '*':\n",
    "    resultado = num1 * num2\n",
    "elif operacao == '/':\n",
    "    if num2 != 0:\n",
    "        resultado = num1 / num2\n",
    "    else:\n",
    "        resultado = \"Erro: Divisão por zero\"\n",
    "else:\n",
    "    resultado = \"Operação inválida\"\n",
    "\n",
    "print(f\"O resultado da operação {num1} {operacao} {num2} é: {resultado}\")\n"
   ]
  },
  {
   "cell_type": "code",
   "execution_count": null,
   "id": "649be3f1",
   "metadata": {},
   "outputs": [
    {
     "name": "stdout",
     "output_type": "stream",
     "text": [
      "3 * 6 = 18\n",
      "Voce saiu do programa\n"
     ]
    }
   ],
   "source": [
    "while True:\n",
    "    operacao = input(\"Qual operacao voce deseja realizar? Digite Sair caso queira encerrar o código: \")\n",
    "    if operacao.upper() == 'SAIR':\n",
    "        break\n",
    "    num1 = int(input(\"Entre com o primeiro número: \"))\n",
    "    num2 = int(input(\"Entre com o segundo número: \"))\n",
    "    calculo = eval(f\"{num1} {operacao} {num2}\")\n",
    "    print(f\"{num1} {operacao} {num2} = {calculo}\")\n",
    "\n",
    "print(\"Voce saiu do programa\")\n"
   ]
  },
  {
   "cell_type": "code",
   "execution_count": 86,
   "id": "97c92312",
   "metadata": {},
   "outputs": [
    {
     "name": "stdout",
     "output_type": "stream",
     "text": [
      "Não numérico\n"
     ]
    }
   ],
   "source": [
    "numero = input('Digite um float:: ')\n",
    "soma = 0\n",
    "\n",
    "if numero.count('.') < 2:    \n",
    "    for num in numero.split('.'):\n",
    "        soma += num.isdigit()\n",
    "    \n",
    "    if soma == numero.count('.')+1:\n",
    "        print('Numérico:', float(numero))\n",
    "    else:\n",
    "        print('Não numérico')"
   ]
  },
  {
   "cell_type": "code",
   "execution_count": null,
   "id": "d10964a8",
   "metadata": {},
   "outputs": [],
   "source": []
  }
 ],
 "metadata": {
  "kernelspec": {
   "display_name": "Python 3 (ipykernel)",
   "language": "python",
   "name": "python3"
  },
  "language_info": {
   "codemirror_mode": {
    "name": "ipython",
    "version": 3
   },
   "file_extension": ".py",
   "mimetype": "text/x-python",
   "name": "python",
   "nbconvert_exporter": "python",
   "pygments_lexer": "ipython3",
   "version": "3.8.19"
  }
 },
 "nbformat": 4,
 "nbformat_minor": 5
}
