{
 "cells": [
  {
   "cell_type": "markdown",
   "metadata": {},
   "source": [
    "# Questão 1:\n",
    "\n",
    "Na área de registro de pagamento de um grande banco, é importantíssimo que os dados sejam tratados apropriadamente. Sendo assim, é fundamental que os tipos de variáveis sejam definidos de acordo com a finalidade a que se destinam. Isto posto, considere o trecho de código abaixo, parte de um sistema de processamento de dados de pagamentos:\n",
    "\n",
    "`v = input(\"Digite o valor da compra: \")`\n",
    "\n",
    "Avaliando as assertivas que se seguem, assinale a alternativa correta.\n",
    "\n",
    "I – a variável v será do tipo str (string).\n",
    "\n",
    "II – sabemos que operações algébricas serão feitas com a variável v no decorrer do programa. Sendo assim, o tipo desta variável é irrelevante.\n",
    "\n",
    "III – a variável v será sempre numérica, dado que a instrução no input indica claramente que seja digitado um valor de compra (que é numérico)\n",
    "\n",
    "a) Apenas a assertiva I é correta\n",
    "\n",
    "b) Apenas a assertiva II é correta\n",
    "\n",
    "c) Apenas a assertiva III é correta\n",
    "\n",
    "d) Todas as assertivas são corretas\n",
    "\n",
    "e) Todas as assertivas são incorretas"
   ]
  },
  {
   "cell_type": "markdown",
   "metadata": {},
   "source": [
    "### Resposta:"
   ]
  },
  {
   "cell_type": "markdown",
   "metadata": {},
   "source": [
    "\n",
    "\n",
    "I - está correta, porque todo retorno de uma função input() é do tipo string. Veja o exemplo abaixo:"
   ]
  },
  {
   "cell_type": "code",
   "execution_count": 1,
   "metadata": {},
   "outputs": [
    {
     "name": "stdout",
     "output_type": "stream",
     "text": [
      "O valor inserido foi 3.99\n",
      "O tipo do retorno da funcao input() é <class 'str'>\n"
     ]
    }
   ],
   "source": [
    "v = input(\"Digite o valor da compra: \")\n",
    "print(f\"O valor inserido foi {v}\")\n",
    "print(f\"O tipo do retorno da funcao input() é {type(v)}\")"
   ]
  },
  {
   "cell_type": "markdown",
   "metadata": {},
   "source": [
    "II - está incorreta, porque não é possível realizar qualquer operaçao aritmética como soma, subtracao, multiplicacao, divisao, etc com variaveis do tipo string"
   ]
  },
  {
   "cell_type": "code",
   "execution_count": 2,
   "metadata": {},
   "outputs": [
    {
     "name": "stdout",
     "output_type": "stream",
     "text": [
      "O valor inserido foi 5.80\n",
      "5.805.805.805.805.805.805.805.805.805.805.805.805.805.805.805.805.805.805.805.805.805.805.805.805.805.805.805.805.805.805.805.805.805.805.805.805.805.805.805.805.805.805.805.805.805.805.805.805.805.805.805.805.805.805.805.805.805.805.805.805.805.805.805.805.805.805.805.805.805.805.805.805.805.805.805.805.805.805.805.805.805.805.805.805.805.805.805.805.805.805.805.805.805.805.805.805.805.805.805.80\n"
     ]
    }
   ],
   "source": [
    "v = input(\"Digite o valor da compra: \")\n",
    "print(f\"O valor inserido foi {v}\")\n",
    "print(v*100) # o uso do sinal * causará a duplicaçao 100 vezes da string contida na variavel v"
   ]
  },
  {
   "cell_type": "code",
   "execution_count": 3,
   "metadata": {},
   "outputs": [
    {
     "name": "stdout",
     "output_type": "stream",
     "text": [
      "O valor inserido foi 4.6\n"
     ]
    },
    {
     "ename": "TypeError",
     "evalue": "can only concatenate str (not \"int\") to str",
     "output_type": "error",
     "traceback": [
      "\u001b[0;31m---------------------------------------------------------------------------\u001b[0m",
      "\u001b[0;31mTypeError\u001b[0m                                 Traceback (most recent call last)",
      "Cell \u001b[0;32mIn[3], line 3\u001b[0m\n\u001b[1;32m      1\u001b[0m v \u001b[38;5;241m=\u001b[39m \u001b[38;5;28minput\u001b[39m(\u001b[38;5;124m\"\u001b[39m\u001b[38;5;124mDigite o valor da compra: \u001b[39m\u001b[38;5;124m\"\u001b[39m)\n\u001b[1;32m      2\u001b[0m \u001b[38;5;28mprint\u001b[39m(\u001b[38;5;124mf\u001b[39m\u001b[38;5;124m\"\u001b[39m\u001b[38;5;124mO valor inserido foi \u001b[39m\u001b[38;5;132;01m{\u001b[39;00mv\u001b[38;5;132;01m}\u001b[39;00m\u001b[38;5;124m\"\u001b[39m)\n\u001b[0;32m----> 3\u001b[0m \u001b[38;5;28mprint\u001b[39m(\u001b[43mv\u001b[49m\u001b[38;5;241;43m+\u001b[39;49m\u001b[38;5;241;43m100\u001b[39;49m)\n",
      "\u001b[0;31mTypeError\u001b[0m: can only concatenate str (not \"int\") to str"
     ]
    }
   ],
   "source": [
    "v = input(\"Digite o valor da compra: \")\n",
    "print(f\"O valor inserido foi {v}\")\n",
    "print(v+100) # retornará um erro pois é uma operacao entre uma string e um numero"
   ]
  },
  {
   "cell_type": "markdown",
   "metadata": {},
   "source": [
    "III - está incorreta, mesmo a mensagem pedindo para que seja digitado um numero, nao tem como forçar que o usuário irá inserir corretamente um valor numerico. Alem disso, como já mencionado no item I, todo retorno da funcao input() será sempre um string e para se tornar um valor numérico é preciso converter o mesmo usando as funcoes int() ou float()\n",
    "Veja o exemplo abaixo"
   ]
  },
  {
   "cell_type": "code",
   "execution_count": 5,
   "metadata": {},
   "outputs": [
    {
     "name": "stdout",
     "output_type": "stream",
     "text": [
      "O valor inserido foi 5.3a\n",
      "O tipo do retorno da funcao input() é <class 'str'>\n"
     ]
    }
   ],
   "source": [
    "v = input(\"Digite o valor da compra: \")\n",
    "print(f\"O valor inserido foi {v}\") # o usuário pode inserir qualquer valor, mesmo sendo pedida uma entrada numerica nao temos como garantir que a medsma será um numero\n",
    "print(f\"O tipo do retorno da funcao input() é {type(v)}\") # o retorno de uma funcao input() sempre sera string e para transformar em um valor numerico precisamos usar funcoes de transformacoes como int() e float()"
   ]
  },
  {
   "cell_type": "markdown",
   "metadata": {},
   "source": [
    "Resposta final: **a) Apenas a assertiva I é correta**"
   ]
  },
  {
   "cell_type": "markdown",
   "metadata": {},
   "source": [
    "# Questão 2:\n",
    "\n",
    "\n",
    "Como parte do código de uma rotina de processamento de informações financeiras, precisamos guardar, em uma lista, informações sobre as taxas de manutenção cobradas em certos tipos de contas. No que diz respeito à inicialização de listas em Python, avalie as formas de inicialização abaixo, indicando a alternativa correta:\n",
    "\n",
    "I) lista_taxas = []\n",
    "\n",
    "II) lista_taxas = (0.08, 0.09)\n",
    "\n",
    "III) lista_taxas = list[0.08, 0.09]\n",
    "\n",
    "IV) lista_taxas = [0.08, 0.09]\n",
    "\n",
    "V) lista_taxas = list(“89”)\n",
    "\n",
    "a) Nenhuma das formas acima é uma maneira válida de inicializar uma lista em Python\n",
    "\n",
    "b) Apenas as alternativas I e II são válidas para inicializar uma lista em Python\n",
    "\n",
    "c) Apenas as alternativas II, III e IV são válidas para inicializar uma lista em Python\n",
    "\n",
    "d) Apenas as alternativas I, IV e V são válidas para inicializar uma lista em Python\n",
    "\n",
    "e) Todas as alternativas são opções viáveis de inicialização de listas em Python"
   ]
  },
  {
   "cell_type": "markdown",
   "metadata": {},
   "source": [
    "### Resposta:"
   ]
  },
  {
   "cell_type": "markdown",
   "metadata": {},
   "source": [
    "I) lista_taxas = []\n",
    "\n",
    "está correta, podemos inicializar uma lista vazia utilizando os colchetes, veja o exemplo abaixo"
   ]
  },
  {
   "cell_type": "code",
   "execution_count": 7,
   "metadata": {},
   "outputs": [
    {
     "name": "stdout",
     "output_type": "stream",
     "text": [
      "[]\n",
      "O tipo da variavel lista_taxas é <class 'list'>\n"
     ]
    }
   ],
   "source": [
    "lista_taxas = []\n",
    "print(lista_taxas)\n",
    "print(f\"O tipo da variavel lista_taxas é {type(lista_taxas)}\")"
   ]
  },
  {
   "cell_type": "markdown",
   "metadata": {},
   "source": [
    "II) lista_taxas = (0.08, 0.09)\n",
    "\n",
    "está incorreta, uma lista é representada por colchetes [], e nao por parenteses () como apresentado acima. Veja o exemplo abaixo do tipo dessa variavel"
   ]
  },
  {
   "cell_type": "code",
   "execution_count": 8,
   "metadata": {},
   "outputs": [
    {
     "name": "stdout",
     "output_type": "stream",
     "text": [
      "(0.08, 0.09)\n",
      "O tipo da variavel lista_taxas é <class 'tuple'>\n"
     ]
    }
   ],
   "source": [
    "lista_taxas = (0.08, 0.09)\n",
    "print(lista_taxas)\n",
    "print(f\"O tipo da variavel lista_taxas é {type(lista_taxas)}\") # tipo final é diferente de uma lista"
   ]
  },
  {
   "cell_type": "markdown",
   "metadata": {},
   "source": [
    "III) lista_taxas = list[0.08, 0.09]\n",
    "\n",
    "está incorreta pois para usar a funcao list() do python, temos que usar parenteses e nao colchetes na sua chamada. Esse código está errado por isso. Veja o exemplo abaixo:"
   ]
  },
  {
   "cell_type": "code",
   "execution_count": 10,
   "metadata": {},
   "outputs": [
    {
     "ename": "TypeError",
     "evalue": "'type' object is not subscriptable",
     "output_type": "error",
     "traceback": [
      "\u001b[0;31m---------------------------------------------------------------------------\u001b[0m",
      "\u001b[0;31mTypeError\u001b[0m                                 Traceback (most recent call last)",
      "Cell \u001b[0;32mIn[10], line 1\u001b[0m\n\u001b[0;32m----> 1\u001b[0m lista_taxas \u001b[38;5;241m=\u001b[39m \u001b[38;5;28;43mlist\u001b[39;49m\u001b[43m[\u001b[49m\u001b[38;5;241;43m0.08\u001b[39;49m\u001b[43m,\u001b[49m\u001b[43m \u001b[49m\u001b[38;5;241;43m0.09\u001b[39;49m\u001b[43m]\u001b[49m\n\u001b[1;32m      2\u001b[0m \u001b[38;5;28mprint\u001b[39m(lista_taxas)\n\u001b[1;32m      3\u001b[0m \u001b[38;5;28mprint\u001b[39m(\u001b[38;5;124mf\u001b[39m\u001b[38;5;124m\"\u001b[39m\u001b[38;5;124mO tipo da variavel lista_taxas é \u001b[39m\u001b[38;5;132;01m{\u001b[39;00m\u001b[38;5;28mtype\u001b[39m(lista_taxas)\u001b[38;5;132;01m}\u001b[39;00m\u001b[38;5;124m\"\u001b[39m)\n",
      "\u001b[0;31mTypeError\u001b[0m: 'type' object is not subscriptable"
     ]
    }
   ],
   "source": [
    "lista_taxas = list[0.08, 0.09] # precisaria ter parenteses e nao colchetes\n",
    "print(lista_taxas)\n",
    "print(f\"O tipo da variavel lista_taxas é {type(lista_taxas)}\")"
   ]
  },
  {
   "cell_type": "markdown",
   "metadata": {},
   "source": [
    "IV) lista_taxas = [0.08, 0.09]\n",
    "\n",
    "está correto, é uma lista não vazia contendo dois elementos sendo que na posiçao 0 temos o elemente de valor 0.08 e na posicao 1 temos o elemento com valor 0.09. Veja demonstração abaixo:"
   ]
  },
  {
   "cell_type": "code",
   "execution_count": 11,
   "metadata": {},
   "outputs": [
    {
     "name": "stdout",
     "output_type": "stream",
     "text": [
      "[0.08, 0.09]\n",
      "O tipo da variavel lista_taxas é <class 'list'>\n"
     ]
    }
   ],
   "source": [
    "lista_taxas = [0.08, 0.09]\n",
    "print(lista_taxas)\n",
    "print(f\"O tipo da variavel lista_taxas é {type(lista_taxas)}\")"
   ]
  },
  {
   "cell_type": "markdown",
   "metadata": {},
   "source": [
    "\n",
    "V) lista_taxas = list('89')\n",
    "\n",
    "está correto pois usa a funcao do puthon list() corretamente entre parenteses, passando um primeiro elemento do tipo string com valor igual a '89', mesmo que o resultade seja os valores string '8' e '9' separados em duas posicoes distintas da lista. Veja demonstração abaixo:"
   ]
  },
  {
   "cell_type": "code",
   "execution_count": 12,
   "metadata": {},
   "outputs": [
    {
     "name": "stdout",
     "output_type": "stream",
     "text": [
      "['8', '9']\n",
      "O tipo da variavel lista_taxas é <class 'list'>\n"
     ]
    }
   ],
   "source": [
    "lista_taxas = list('89')\n",
    "print(lista_taxas)\n",
    "print(f\"O tipo da variavel lista_taxas é {type(lista_taxas)}\")"
   ]
  },
  {
   "cell_type": "markdown",
   "metadata": {},
   "source": [
    "Resposta final: **d) Apenas as alternativas I, IV e V são válidas para inicializar uma lista em Python**"
   ]
  },
  {
   "cell_type": "markdown",
   "metadata": {},
   "source": [
    "# Questão 3:\n",
    "\n",
    "Como parte da equipe de facilities de um banco, você precisa implementar um código em Python que calcula o preço total de uma compra, dado o preço unitário de um dado produto (armazenado na variável preco) e a quantidade de unidades compradas (armazenado na variável quantidade). Assuma que temos apenas um único produto comprado. Assinale a alternativa que corretamente implementa este procedimento:\n",
    "\n",
    "a) preco_total = quantidade *= preco\n",
    "\n",
    "b) preco_total = quantidade * preco\n",
    "\n",
    "c) preco_total = quantidade += preco\n",
    "\n",
    "d) preco_total = quantidade / preco\n",
    "\n",
    "e) nda"
   ]
  },
  {
   "cell_type": "markdown",
   "metadata": {},
   "source": [
    "### Resposta:"
   ]
  },
  {
   "cell_type": "markdown",
   "metadata": {},
   "source": [
    "Para resolver esse problema precisamos lembrar que o preço total da compra será dada pela multiplicaçao entre o preço unitário do produto pela quantidade de unidades compradas. O resultado dessa operação é o preço total final.\n",
    "\n",
    "preço_final = preço_unitario * quantidade_comprada\n",
    "\n",
    "Isso tambem equivale a realizar a soma do valor unitário pelo numero equivamente a quantidade comprada, exemplo:\n",
    "\n",
    "preço_final = preço_unitario + preço_unitario + preço_unitario + preço_unitario + preço_unitario + preço_unitario + ..... (repetindo pela quantidade de unidades compradas)\n",
    "\n",
    "Ambas as operações matemáticas resultam no mesmo valor para o preço final."
   ]
  },
  {
   "cell_type": "markdown",
   "metadata": {},
   "source": [
    "Resposta final: **b) preco_total = quantidade * preco**"
   ]
  },
  {
   "cell_type": "markdown",
   "metadata": {},
   "source": [
    "# Questão 4:\n",
    "\n",
    "Analise o seguinte código e indique a alternativa que corretamente indica as mensagens que foram exibidas na tela:\n",
    "\n",
    "```\n",
    "var_a = 4\n",
    "var_b = -6\n",
    "var_c = 8\n",
    "\n",
    "if var_a > var_b:\n",
    "    print('Saída 1')\n",
    "    \n",
    "if var_a > var_c:\n",
    "    print('Saída 2')\n",
    "elif var_a > var_b + var_c:\n",
    "    print('Saída 3')\n",
    "else:\n",
    "    print('Saída 4')\n",
    "    \n",
    "print('Saída 5')\n",
    "```\n",
    "\n",
    "a) Saída 5\n",
    "\n",
    "b) Saída 1 e Saída 3\n",
    "\n",
    "c) Saída 1 e Saída 5\n",
    "\n",
    "d) Saída 1, Saída 3 e Saída 5\n",
    "\n",
    "e) Saída 1, Saída 4 e Saída 5"
   ]
  },
  {
   "cell_type": "markdown",
   "metadata": {},
   "source": [
    "### Resposta:"
   ]
  },
  {
   "cell_type": "markdown",
   "metadata": {},
   "source": [
    "Vamos analisar o código passo a passo"
   ]
  },
  {
   "cell_type": "markdown",
   "metadata": {},
   "source": [
    "```\n",
    "# inicializando as variáveis (var_a, var_b, var_c)\n",
    "var_a = 4\n",
    "var_b = -6\n",
    "var_c = 8\n",
    "\n",
    "# executando uma condicional em que irá avaliar de maneira comparativa o valor entre as variáveis\n",
    "# verifica se var_a que tem valor 4 é maior (>) que a var_b que tem valor -6, se essa comparaçao retornar um valor verdadeiro (True), o programa executa a instrução que está dentro desse if. Como 4 é maior que -6, o programa executará a instrução dentro do if retornando para o usuário Saida 1\n",
    "\n",
    "if var_a > var_b: \n",
    "    print('Saída 1')\n",
    "\n",
    "\n",
    "# ao passar pelo primeiro if, o programa cairá em um segundo if, em que o mesmo verifica se o valor de var_a que é 4, é maior que o valor de var_ç, que é 8. O valor 4 não é maior que o valor 8, sendo assim o programa nao executará a instrucao que esta dentro do mesmo, passando entao para o elif\n",
    "\n",
    "if var_a > var_c:\n",
    "    print('Saída 2')\n",
    "\n",
    "\n",
    "# como o resultado da verificaçao anterior foi falso, o programa cai na segunda verifição que vai analisar se a var_a, que tem valor 4, é maior que a soma entre as variaveis var_b e var_c (-6 e 8 respectivamente). O resultado de var_b + var_c é -6 + 8 = 2. Entao 4 é maior que 2, com isso o programa entra nessa etapa e executa a instrucao do print, resultado em Saida 3. E nao executa o else, o mesmo só seria executado se essa verificaçao elif fosse falsa\n",
    "\n",
    "elif var_a > var_b + var_c:\n",
    "    print('Saída 3')\n",
    "\n",
    "# nao vai entrar pelo else pois a verificacao realizada no elif foi verdadeira fazendo com que o programa nao executasse essa instrucao\n",
    "\n",
    "else:\n",
    "    print('Saída 4')\n",
    "\n",
    "\n",
    "# chegando ao final do programa temos uma instrução que nao depende de nada e sendo assim a mesma será executada produzindo um resultado para o usuário igual a Saida 5\n",
    "\n",
    "print('Saída 5')\n",
    "```"
   ]
  },
  {
   "cell_type": "markdown",
   "metadata": {},
   "source": [
    "Vamos executar o nosso código para validar a analise feita acima. Resultado esperado: \n",
    "```\n",
    "Saida 1\n",
    "Saida 3\n",
    "Saida 5\n",
    "```"
   ]
  },
  {
   "cell_type": "code",
   "execution_count": 13,
   "metadata": {},
   "outputs": [
    {
     "name": "stdout",
     "output_type": "stream",
     "text": [
      "Saída 1\n",
      "Saída 3\n",
      "Saída 5\n"
     ]
    }
   ],
   "source": [
    "var_a = 4\n",
    "var_b = -6\n",
    "var_c = 8\n",
    "\n",
    "if var_a > var_b:\n",
    "    print('Saída 1')\n",
    "    \n",
    "if var_a > var_c:\n",
    "    print('Saída 2')\n",
    "elif var_a > var_b + var_c:\n",
    "    print('Saída 3')\n",
    "else:\n",
    "    print('Saída 4')\n",
    "    \n",
    "print('Saída 5')"
   ]
  },
  {
   "cell_type": "markdown",
   "metadata": {},
   "source": [
    "Resposta final: **d) Saída 1, Saída 3 e Saída 5**"
   ]
  },
  {
   "cell_type": "markdown",
   "metadata": {},
   "source": [
    "# Questão 5: ANULADA\n",
    "\n",
    "Sobre operadores condicionais em Python, avalie as afirmativas abaixo como verdadeiras ou falsas:\n",
    "\n",
    "V I) O uso de : é obrigatório para indicar o final da condição a ser avaliada em um bloco if; F II) Identação é opcional no Python; F III) O que indica o final de um bloco if é o else ao final; V IV) Obrigatoriamente deve existir ao menos um comando dentro da estrutura de um if (isto é, no bloco identado após o :); V V) Obrigatoriamente deve existir ao menos um comando dentro da estrutura de um elif (isto é, no bloco identado após o :);\n",
    "\n",
    "São verdadeiras as afirmativas:\n",
    "\n",
    "a) IV) e V), apenas\n",
    "\n",
    "b) I) e III), apenas\n",
    "\n",
    "**c) I), IV) e V), apenas** RESPOSTA JA ESTAVA NO ENUNCIADO\n",
    "\n",
    "d) II) e IV), apenas\n",
    "\n",
    "e) I), III) e V), apenas"
   ]
  },
  {
   "cell_type": "markdown",
   "metadata": {},
   "source": [
    "# Questão 6:\n",
    "\n",
    "Considere o seguinte trecho de código em Python:\n",
    "\n",
    "```\n",
    "lista_1 = [0, 1, 2, 3, 4]\n",
    "lista_2 = lista_1[:]\n",
    "lista_2[0] = 42\n",
    "print(lista_1[0])\n",
    "```\n",
    "Qual o valor exibido na tela, a partir da execução deste trecho de código?\n",
    "\n",
    "a) [0, 1, 2, 3, 4]\n",
    "\n",
    "b) 0\n",
    "\n",
    "c) 4\n",
    "\n",
    "d) [4, 3, 2, 1, 0]\n",
    "\n",
    "e) None"
   ]
  },
  {
   "cell_type": "markdown",
   "metadata": {},
   "source": [
    "### Resposta"
   ]
  },
  {
   "cell_type": "markdown",
   "metadata": {},
   "source": [
    "```\n",
    "# inicializando uma lista com 5 elementos inteiros\n",
    "lista_1 = [0, 1, 2, 3, 4]\n",
    "\n",
    "# atribuindo a variavel lista_2 todos os valor da lista_1, uma vez que quando colocamos o intervalo apenas com dois pontos (:) estamos indicando que todo o intervalo esta sendo selecionado\n",
    "lista_2 = lista_1[:]\n",
    "\n",
    "# ao executar a instrução lista_2[0] = 4, estamos substituindo o valor do elemento da posição 0 da lista_2 pelo valor 4, ou seja o que antes era 0 pois é i valor correspondente a posição 0 da lista, passará a assumir o valor 4\n",
    "lista_2[0] = 42\n",
    "\n",
    "# a instrucao abaixo vai printar o elemento da posição 0 da lista_1, a qual nao teve nenhuma operação que mudasse ou alterasse esse valor, sendo assim o valor que será retornado ao usuário será o valor 0\n",
    "print(lista_1[0])\n",
    "```"
   ]
  },
  {
   "cell_type": "markdown",
   "metadata": {},
   "source": [
    "Executando o programa para validar que a saída final será igual a 0"
   ]
  },
  {
   "cell_type": "code",
   "execution_count": 14,
   "metadata": {},
   "outputs": [
    {
     "name": "stdout",
     "output_type": "stream",
     "text": [
      "0\n"
     ]
    }
   ],
   "source": [
    "lista_1 = [0, 1, 2, 3, 4]\n",
    "lista_2 = lista_1[:]\n",
    "lista_2[0] = 42\n",
    "print(lista_1[0])"
   ]
  },
  {
   "cell_type": "markdown",
   "metadata": {},
   "source": [
    "Resposta final: **b) 0**"
   ]
  },
  {
   "cell_type": "markdown",
   "metadata": {},
   "source": [
    "# Questão 7:\n",
    "\n",
    "Ao prospectar clientes, é importante que sejam mapeadas características capazes de definir perfis específicos, para que se possam estabelecer campanhas mais direcionadas a cada público. Dentre estas características, considerando o contexto de ofertas de produtos para clientes PJ de um banco, pode ser importante saber, por exemplo, quanto em média o cliente PJ fatura por dia em uma semana típica.\n",
    "\n",
    "Neste contexto, você precisa implementar um protótipo de uma solução, em Python, que faz o seguinte:\n",
    "\n",
    "recebe, como entrada, o faturamento total de cada dia de uma semana (recebendo, portanto, 7 números);\n",
    "exibe na tela, como saída, o faturamento diário médio (com base nas informações de faturamento da semana informada)."
   ]
  },
  {
   "cell_type": "markdown",
   "metadata": {},
   "source": [
    "### Resposta:"
   ]
  },
  {
   "cell_type": "code",
   "execution_count": 18,
   "metadata": {},
   "outputs": [
    {
     "name": "stdout",
     "output_type": "stream",
     "text": [
      "Baseado nos valores de faturamento total diário inseridos, [10.0, 20.0, 30.0, 20.0, 12.0, 40.0, 34.0], o seu faturamento diário médio é igual a R$23.71\n"
     ]
    }
   ],
   "source": [
    "# recebe, como entrada, o faturamento total de cada dia de uma semana (recebendo, portanto, 7 números);\n",
    "faturamento_total_diario = [] # inicializando uma lista vazia que receberá os 7 valores inseridos pelo usuário\n",
    "n = 7 # salvando o valor 7 em uma variável para evitar a repeticao do valor, e caso haja necessidade de alterá-lo no futuro, só será preciso alterar em um único lugar e não em vários\n",
    "for i in range(n):\n",
    "    faturamento_total_diario.append(float(input(f\"Entre com o seu {i+1}o faturamento diário médio: \"))) # inserindo na lista os valores já transformados em float do faturamento total diario do cliente PJ\n",
    "faturamento_diario_medio = sum(faturamento_total_diario)/n # utilizando a função sum() para somar todos os elementos da lista e dividir por n, mas tambem poderiamos ter escrito isso como  media_dos_valor = sum(faturamento_total_diario)/len(faturamento_total_diario) uma vez que o len(faturamento_total_diario) é igual a n que é igual a 7\n",
    "# exibe na tela, como saída, o faturamento diário médio (com base nas informações de faturamento da semana informada).\n",
    "# com a funçao print() é possivel mostrar como resultado para o usuário o faturamento diario medio do mesmo\n",
    "print(f\"Baseado nos valores de faturamento total diário inseridos, {faturamento_total_diario}, o seu faturamento diário médio é igual a R${faturamento_diario_medio:.2f}\")\n",
    "\n"
   ]
  },
  {
   "cell_type": "markdown",
   "metadata": {},
   "source": [
    "# Questão 8:\n",
    "\n",
    "Trabalhando na equipe de facilities de um banco, muitas vezes você faz compras internacionais, e acaba se deparando com diversas unidades de medida que caracterizam os produtos: em alguns países, medidas como onça fluida, libra e pés são muito comuns para medir volume, massa e comprimento, respectivamente.\n",
    "\n",
    "Neste contexto, escreva um programa que seja uma calculadora para converter as medidas mencionadas acima para o sistema internacional (litro, quilograma e metro). Os fatores de conversão são os seguintes:\n",
    "\n",
    "1 onça fluida = 0,0295735 litros 1 libra = 0,453592 quilogramas 1 pé = 0,3048 metros\n",
    "\n",
    "A calculadora deve ser capaz de realizar tanto a conversão para o sistema internacional quanto a conversão de volta para as unidades originais.\n",
    "\n",
    "Seu programa deve receber os inputs adequados do usuário para que seja completamente especificada a quantidade a ser convertida, e quais as unidades envolvidas na conversão desejada. Por fim, o programa deve exibir na tela tanto o valor na unidade original quanto na unidade convertida.\n",
    "\n",
    "Exemplo: se o usuário quiser converter 5 libras para quilogramas, a mensagem a ser exibida na tela como resultado do programa deve ser: \"5.0 libras é igual a 2.26796 quilogramas.\"."
   ]
  },
  {
   "cell_type": "code",
   "execution_count": 20,
   "metadata": {},
   "outputs": [
    {
     "name": "stdout",
     "output_type": "stream",
     "text": [
      "Conversor de unidades\n",
      "Escolha a conversão que deseja realizar:\n",
      "1 - Onças fluídas para Litros\n",
      "2 - Litros para Onças fluídas\n",
      "3 - Libras para Quilogramas\n",
      "4 - Quilogramas para Libras\n",
      "5 - Pés para Metros\n",
      "6 - Metros para Pés\n",
      "\n",
      "\n",
      "5.0 libras é igual a 2.26796 quilogramas.\n"
     ]
    }
   ],
   "source": [
    "# Inicionado com a atribuicao das conversoes em variaveis para facilitar os durante as conversoes e evitar erros na digitacao dos decimais, esses valores foram fornecidos no enunciado\n",
    "onca_fluida_para_litros = 0.0295735\n",
    "libra_para_quilogramas = 0.453592\n",
    "pe_para_metros = 0.3048\n",
    "\n",
    "# A calculadora deve ser capaz de realizar tanto a conversão para o sistema internacional quanto a conversão de volta para as unidades originais.\n",
    "# Criando um menu simples com as opções que o usuário terá de escolha entre os diferentes tipos de unidades de conversao, levando em consideracao que o mesmo pode tanto escolher ir do sistema internacional para as unidades especificas como vice versa\n",
    "print(\"Conversor de unidades\")\n",
    "print(\"Escolha a conversão que deseja realizar:\")\n",
    "print(\"1 - Onças fluídas para Litros\")\n",
    "print(\"2 - Litros para Onças fluídas\")\n",
    "print(\"3 - Libras para Quilogramas\")\n",
    "print(\"4 - Quilogramas para Libras\")\n",
    "print(\"5 - Pés para Metros\")\n",
    "print(\"6 - Metros para Pés\")\n",
    "print(\"\\n\") # para o resultado nao ficar grudado no menu\n",
    "\n",
    "# esperando o input do usuário para definir qual a operação que o mesmo deseja realizar, já faz a conversão para inteiro pois no menu foi passada a opção em números inteiros\n",
    "opcao = int(input(\"Digite o número da conversão desejada: \"))\n",
    "\n",
    "# Uma vez que foi digitado o valor da operação que o mesmo deseja realizar, será feita a comparação do mesmo para executar a correta transformação entre os sistemas de medida\n",
    "if opcao == 1: # se a opção digitada for igual a 1\n",
    "    quantidade = float(input(\"Digite a quantidade em onças fluídas: \")) # pede para que o mesmo insira o valor em onças fluidas\n",
    "    resultado = quantidade * onca_fluida_para_litros\n",
    "    print(f\"{quantidade} onças fluídas é igual a {resultado} litros.\") # apresenta o resultado convertido em litros\n",
    "elif opcao == 2: # se a opção digitada for igual a 2\n",
    "    quantidade = float(input(\"Digite a quantidade em litros: \")) # pede para que o mesmo insira o valor em litros\n",
    "    resultado = quantidade / onca_fluida_para_litros\n",
    "    print(f\"{quantidade} litros é igual a {resultado} onças fluídas.\") # apresenta o resultado convertido em onças fluidas\n",
    "elif opcao == 3: # se a opção digitada for igual a 3\n",
    "    quantidade = float(input(\"Digite a quantidade em libras: \")) # pede para que o mesmo insira o valor em libras\n",
    "    resultado = quantidade * libra_para_quilogramas\n",
    "    print(f\"{quantidade} libras é igual a {resultado} quilogramas.\")  # apresenta o resultado convertido em quilogramas\n",
    "elif opcao == 4: # se a opção digitada for igual a 4\n",
    "    quantidade = float(input(\"Digite a quantidade em quilogramas: \")) # pede para que o mesmo insira o valor em quilogramas\n",
    "    resultado = quantidade / libra_para_quilogramas\n",
    "    print(f\"{quantidade} quilogramas é igual a {resultado} libras.\") # apresenta o resultado convertido em libras\n",
    "elif opcao == 5: # se a opção digitada for igual a 5\n",
    "    quantidade = float(input(\"Digite a quantidade em pés: \")) # pede para que o mesmo insira o valor em pés\n",
    "    resultado = quantidade * pe_para_metros\n",
    "    print(f\"{quantidade} pés é igual a {resultado} metros.\") # apresenta o resultado convertido em metros\n",
    "elif opcao == 6: # se a opção digitada for igual a 6\n",
    "    quantidade = float(input(\"Digite a quantidade em metros: \")) # pede para que o mesmo insira o valor em metros\n",
    "    resultado = quantidade / pe_para_metros\n",
    "    print(f\"{quantidade} metros é igual a {resultado} pés.\")  # apresenta o resultado convertido em pés \n",
    "else: # se a opção digitada nao for nenhuma das disponíveis\n",
    "    print(\"Opção inválida. Por favor, escolha uma das opções listadas.\") # printa como resultado Opção inválida. Por favor, escolha uma das opções listadas.\n"
   ]
  },
  {
   "cell_type": "markdown",
   "metadata": {},
   "source": [
    "# Questão 9:\n",
    "Um conceito muito comum no mercado financeiro é o de média móvel. A ideia da média móvel é suavizar uma série temporal de dados para identificar tendências ao longo do tempo. Em vez de considerar cada ponto de dados individualmente, a média móvel calcula a média de um conjunto de dados dentro de uma janela de tempo específica, deslocando essa janela ao longo da série temporal.\n",
    "\n",
    "Em outras palavras: ao calcular a média móvel com janela de tamanho n para uma lista de valores, cada elemento da lista original é substituído pela média dos n elementos dentro da janela que termina no próprio elemento -- ou seja, a soma dos n-1 valores anteriores ao elemento com o valor do próprio elemento, dividido por n.\n",
    "\n",
    "Considere a lista de 10 valores a seguir: [3, 5, 8, 2, 7, 10, 3, 6, 9, 4].\n",
    "\n",
    "Escreva um programa que calcula a média móvel em janelas de 3 valores dessa lista (ou seja, n=3) e exiba na tela a lista resultante deste procedimento."
   ]
  },
  {
   "cell_type": "code",
   "execution_count": 33,
   "metadata": {},
   "outputs": [
    {
     "name": "stdout",
     "output_type": "stream",
     "text": [
      "A média movel gerada é:\n",
      "[5.333333333333333, 5.0, 5.666666666666667, 6.333333333333333, 6.666666666666667, 6.333333333333333, 6.0, 6.333333333333333]\n"
     ]
    }
   ],
   "source": [
    "# Lista de valores iniciais conforme fornecido no enunciado\n",
    "valores = [3, 5, 8, 2, 7, 10, 3, 6, 9, 4]\n",
    "\n",
    "# Considerando a janela da média móvel igual a 3 como fornecido no enunciado\n",
    "n = 3\n",
    "\n",
    "# Criando uma nova lista para inserir os valores novos\n",
    "media_movel = []\n",
    "\n",
    "# Calculando a média móvel\n",
    "for i in range(len(valores) - n + 1):\n",
    "    # Selecionando a janela de n elementos\n",
    "    janela = valores[i:i + n]\n",
    "    # Calculando a média da janela\n",
    "    media = sum(janela) / n\n",
    "    # Adicionando a média à lista de médias móveis\n",
    "    media_movel.append(media)\n",
    "\n",
    "# Exibindo o resultado final\n",
    "print(f\"A média movel gerada é:\\n{media_movel}\")\n"
   ]
  },
  {
   "cell_type": "markdown",
   "metadata": {},
   "source": [
    "# Questão 10:\n",
    "Um sistema de avaliação de saúde será desenvolvido por você para ajudar médicos do trabalho a avaliar a saúde de seus pacientes, que são funcionários de um grande banco.\n",
    "\n",
    "Os pacientes recebem uma nota de 0 a 100 para cada um dos seguintes critérios: preparo físico, alimentação saudável, saúde do coração e saúde mental.\n",
    "\n",
    "Um paciente com nota média acima de 70 é considerado saudável, enquanto pacientes com nota média abaixo de 70 são enviados para uma avaliação completa. Entretanto, caso a saúde do coração ou a saúde mental de um paciente estejam abaixo de 30, o paciente será encaminhado para uma avaliação completa independente da média.\n",
    "\n",
    "Escreva um programa que implementa a lógica acima, em que é exibido na tela o resultado da avaliação (\"paciente saudável\" ou \"paciente encaminhado para avaliação completa\") com base nas notas para os 4 critérios supracitados (você pode atribuir valores específicos para as notas para testar seu programa)."
   ]
  },
  {
   "cell_type": "code",
   "execution_count": 32,
   "metadata": {},
   "outputs": [
    {
     "name": "stdout",
     "output_type": "stream",
     "text": [
      "Um ou mais valores inseridos estão fora do intervalo aceito de 0 a 100. Execute o programa novamente.\n",
      "Um ou mais valores inseridos estão fora do intervalo aceito de 0 a 100. Execute o programa novamente.\n",
      "Resultado final da avaliação: paciente encaminhado para avaliação completa\n"
     ]
    }
   ],
   "source": [
    "# Os pacientes recebem uma nota de 0 a 100 para cada um dos seguintes critérios: preparo físico, alimentação saudável, saúde do coração e saúde mental.\n",
    "# Recebendo valores referente as notas dos critérios. Considerando que as notas só podem ser valores inteiros\n",
    "\n",
    "while True:    \n",
    "    # Recebendo as notas dos critérios\n",
    "    preparo_fisico = int(input(\"Nota referente ao preparo físico do paciente: \"))\n",
    "    alimentacao_saudavel = int(input(\"Nota referente a alimentação saudável do paciente: \"))\n",
    "    saude_coracao = int(input(\"Nota referente a saúde do coração do paciente: \"))\n",
    "    saude_mental = int(input(\"Nota referente a saúde mental do paciente: \"))\n",
    "    \n",
    "    # Verifica se algum valor está fora do intervalo aceito\n",
    "    if (preparo_fisico < 0 or preparo_fisico > 100 or \n",
    "        alimentacao_saudavel < 0 or alimentacao_saudavel > 100 or \n",
    "        saude_coracao < 0 or saude_coracao > 100 or \n",
    "        saude_mental < 0 or saude_mental > 100):\n",
    "        print(\"Um ou mais valores inseridos estão fora do intervalo aceito de 0 a 100. Execute o programa novamente.\")\n",
    "        continue  # Continua o loop para permitir a entrada de novos valores\n",
    "    \n",
    "    # Calculando a média das notas\n",
    "    media = (preparo_fisico + alimentacao_saudavel + saude_coracao + saude_mental) / 4\n",
    "\n",
    "    # Verifica se a saúde do coração ou saúde mental estão abaixo de 30\n",
    "    if saude_coracao < 30 or saude_mental < 30:\n",
    "        resultado = \"paciente encaminhado para avaliação completa\"\n",
    "    # Verifica a média das notas\n",
    "    elif media > 70:\n",
    "        resultado = \"paciente saudável\"\n",
    "    # Caso a média seja menor ou igual a 70\n",
    "    else:\n",
    "        resultado = \"paciente encaminhado para avaliação completa\"\n",
    "\n",
    "    # Exibindo na tela o resultado da avaliação\n",
    "    print(f\"Resultado final da avaliação: {resultado}\")\n",
    "    \n",
    "    # Encerra o loop após a exibição do resultado\n",
    "    break\n"
   ]
  },
  {
   "cell_type": "markdown",
   "metadata": {},
   "source": []
  }
 ],
 "metadata": {
  "kernelspec": {
   "display_name": "Python 3",
   "language": "python",
   "name": "python3"
  },
  "language_info": {
   "codemirror_mode": {
    "name": "ipython",
    "version": 3
   },
   "file_extension": ".py",
   "mimetype": "text/x-python",
   "name": "python",
   "nbconvert_exporter": "python",
   "pygments_lexer": "ipython3",
   "version": "3.8.19"
  }
 },
 "nbformat": 4,
 "nbformat_minor": 2
}
