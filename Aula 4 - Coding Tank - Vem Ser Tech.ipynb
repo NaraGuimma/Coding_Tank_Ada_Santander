{
 "cells": [
  {
   "cell_type": "markdown",
   "id": "341a085c",
   "metadata": {},
   "source": [
    "<div style=\"background-color: black; padding: 18px;\">\n",
    "    <h1> Coding Tank | Vem Ser Tech \n",
    "</div>"
   ]
  },
  {
   "cell_type": "markdown",
   "id": "f0230d44",
   "metadata": {},
   "source": [
    "<div style=\"background-color: black; padding: 10px;\">\n",
    "    <h2> Tópicos da aula - AULA 4\n",
    "</div>\n",
    "\n",
    "- Loop for\n",
    "- Listas\n",
    "- Índices\n",
    "- Iterações de listas\n",
    "- Métodos de listas"
   ]
  },
  {
   "cell_type": "markdown",
   "id": "ddaaaec8",
   "metadata": {},
   "source": [
    "E se quisermos fazer o programa que a pessoa digita 10 números e dizemos o maior, conseguimos?\n",
    "\n",
    "E se quisermos o 2° maior? E se quisermos o 5º? \n",
    "\n",
    "Podemos resolver com **listas**\n",
    "\n",
    "- Listas\n",
    "\n",
    "Listas são coleções de objetos em Python e é expressada em `[]`"
   ]
  },
  {
   "cell_type": "code",
   "execution_count": 68,
   "id": "e626193f",
   "metadata": {
    "ExecuteTime": {
     "end_time": "2023-06-29T00:53:10.121923Z",
     "start_time": "2023-06-29T00:53:10.111155Z"
    }
   },
   "outputs": [
    {
     "name": "stdout",
     "output_type": "stream",
     "text": [
      "[1, 2.5, 3, 4]\n"
     ]
    }
   ],
   "source": [
    "lista_1 = [] # lista vazia\n",
    "# cresce dinamicamente, nao precisa definir o tamanho da lista\n",
    "lista_2 = [1 , 2 , 3 , 4 , 5]\n",
    "lista_3 = list() # lista vazia\n",
    "lista_4 = [1, 2.5, 3, 4]\n",
    "lista_5 = [1, 2.0, 'savannah']\n",
    "lista_6 = [1, [2, 3]] # listas dentro de listas \n",
    "# lista em python permite qualquer coisa no Python\n",
    "print(lista_4)"
   ]
  },
  {
   "cell_type": "code",
   "execution_count": 69,
   "id": "8a7398da",
   "metadata": {
    "ExecuteTime": {
     "end_time": "2023-06-29T00:56:41.565104Z",
     "start_time": "2023-06-29T00:56:41.555151Z"
    }
   },
   "outputs": [],
   "source": [
    "lista = [1 , 2 , 3 , 4 , 5 , 6 , 7 , 8 , 9 , 10]"
   ]
  },
  {
   "cell_type": "code",
   "execution_count": 70,
   "id": "4541e94a",
   "metadata": {
    "ExecuteTime": {
     "end_time": "2023-06-29T00:56:58.487031Z",
     "start_time": "2023-06-29T00:56:58.477176Z"
    }
   },
   "outputs": [
    {
     "data": {
      "text/plain": [
       "[1, 2, 3, 4, 5, 6, 7, 8, 9, 10]"
      ]
     },
     "execution_count": 70,
     "metadata": {},
     "output_type": "execute_result"
    }
   ],
   "source": [
    "lista # printando o conteudo da lista"
   ]
  },
  {
   "cell_type": "code",
   "execution_count": 71,
   "id": "8a57fec8",
   "metadata": {
    "ExecuteTime": {
     "end_time": "2023-06-29T00:57:40.345041Z",
     "start_time": "2023-06-29T00:57:40.339545Z"
    }
   },
   "outputs": [
    {
     "data": {
      "text/plain": [
       "10"
      ]
     },
     "execution_count": 71,
     "metadata": {},
     "output_type": "execute_result"
    }
   ],
   "source": [
    "len(lista)"
   ]
  },
  {
   "cell_type": "code",
   "execution_count": 72,
   "id": "03ac344a",
   "metadata": {
    "ExecuteTime": {
     "end_time": "2023-06-29T22:26:30.681040Z",
     "start_time": "2023-06-29T22:26:30.671086Z"
    }
   },
   "outputs": [
    {
     "data": {
      "text/plain": [
       "1"
      ]
     },
     "execution_count": 72,
     "metadata": {},
     "output_type": "execute_result"
    }
   ],
   "source": [
    "lista[0] # as listas sempre se iniciam do 0 e vao até n - 1 em tamanho"
   ]
  },
  {
   "cell_type": "code",
   "execution_count": 73,
   "id": "f9777dd0",
   "metadata": {
    "ExecuteTime": {
     "end_time": "2023-06-29T22:26:58.328878Z",
     "start_time": "2023-06-29T22:26:58.315522Z"
    }
   },
   "outputs": [
    {
     "ename": "IndexError",
     "evalue": "list index out of range",
     "output_type": "error",
     "traceback": [
      "\u001b[0;31m---------------------------------------------------------------------------\u001b[0m",
      "\u001b[0;31mIndexError\u001b[0m                                Traceback (most recent call last)",
      "Cell \u001b[0;32mIn[73], line 1\u001b[0m\n\u001b[0;32m----> 1\u001b[0m \u001b[43mlista\u001b[49m\u001b[43m[\u001b[49m\u001b[38;5;241;43m10\u001b[39;49m\u001b[43m]\u001b[49m \u001b[38;5;66;03m# erro porque o último elemento está na posição 10\u001b[39;00m\n",
      "\u001b[0;31mIndexError\u001b[0m: list index out of range"
     ]
    }
   ],
   "source": [
    "lista[10] # erro porque o último elemento está na posição 10"
   ]
  },
  {
   "cell_type": "code",
   "execution_count": null,
   "id": "fb4cc5b7",
   "metadata": {
    "ExecuteTime": {
     "end_time": "2023-06-29T22:27:19.356689Z",
     "start_time": "2023-06-29T22:27:19.312779Z"
    }
   },
   "outputs": [
    {
     "name": "stdout",
     "output_type": "stream",
     "text": [
      "[1, 2.0, 'savannah']\n"
     ]
    }
   ],
   "source": [
    "print(lista_5)"
   ]
  },
  {
   "cell_type": "code",
   "execution_count": null,
   "id": "0339c0fc",
   "metadata": {
    "ExecuteTime": {
     "end_time": "2023-06-29T22:28:00.578066Z",
     "start_time": "2023-06-29T22:28:00.567809Z"
    }
   },
   "outputs": [
    {
     "data": {
      "text/plain": [
       "int"
      ]
     },
     "execution_count": 10,
     "metadata": {},
     "output_type": "execute_result"
    }
   ],
   "source": [
    "type(lista_5[0])"
   ]
  },
  {
   "cell_type": "code",
   "execution_count": null,
   "id": "6f038b2b",
   "metadata": {
    "ExecuteTime": {
     "end_time": "2023-06-29T22:28:06.511060Z",
     "start_time": "2023-06-29T22:28:06.501774Z"
    }
   },
   "outputs": [
    {
     "data": {
      "text/plain": [
       "float"
      ]
     },
     "execution_count": 11,
     "metadata": {},
     "output_type": "execute_result"
    }
   ],
   "source": [
    "type(lista_5[1])"
   ]
  },
  {
   "cell_type": "code",
   "execution_count": null,
   "id": "1c1228df",
   "metadata": {
    "ExecuteTime": {
     "end_time": "2023-06-29T22:28:53.370752Z",
     "start_time": "2023-06-29T22:28:53.345190Z"
    }
   },
   "outputs": [
    {
     "data": {
      "text/plain": [
       "str"
      ]
     },
     "execution_count": 12,
     "metadata": {},
     "output_type": "execute_result"
    }
   ],
   "source": [
    "type(lista_5[2]) # os elementos tem tipos distintos mas o tipo da lista geral sempre será o list"
   ]
  },
  {
   "cell_type": "code",
   "execution_count": null,
   "id": "20e426c5",
   "metadata": {
    "ExecuteTime": {
     "end_time": "2023-06-29T22:29:03.492265Z",
     "start_time": "2023-06-29T22:29:03.475031Z"
    }
   },
   "outputs": [
    {
     "data": {
      "text/plain": [
       "'savannah'"
      ]
     },
     "execution_count": 13,
     "metadata": {},
     "output_type": "execute_result"
    }
   ],
   "source": [
    "lista_5[-1] # outra maneira de pegar o ultimo elemento"
   ]
  },
  {
   "cell_type": "code",
   "execution_count": null,
   "id": "459eedd9",
   "metadata": {
    "ExecuteTime": {
     "end_time": "2023-06-29T22:29:09.389792Z",
     "start_time": "2023-06-29T22:29:09.372341Z"
    }
   },
   "outputs": [
    {
     "name": "stdout",
     "output_type": "stream",
     "text": [
      "[1, 2, 3, 4, 5, 6, 7, 8, 9, 10]\n"
     ]
    }
   ],
   "source": [
    "print(lista[:]) # retorna a lista inteira"
   ]
  },
  {
   "cell_type": "code",
   "execution_count": null,
   "id": "f2fc4556",
   "metadata": {
    "ExecuteTime": {
     "end_time": "2023-06-29T22:29:58.239341Z",
     "start_time": "2023-06-29T22:29:58.227247Z"
    }
   },
   "outputs": [
    {
     "name": "stdout",
     "output_type": "stream",
     "text": [
      "[1, 2, 3]\n"
     ]
    }
   ],
   "source": [
    "print(lista[0:3]) # pegando apenas os 3 primeiros elementos, nao quer dizer que esta na posicao 3"
   ]
  },
  {
   "cell_type": "code",
   "execution_count": null,
   "id": "329ac2df",
   "metadata": {
    "ExecuteTime": {
     "end_time": "2023-06-29T22:50:42.362629Z",
     "start_time": "2023-06-29T22:50:42.336530Z"
    }
   },
   "outputs": [
    {
     "name": "stdout",
     "output_type": "stream",
     "text": [
      "[1, 2, 3]\n"
     ]
    }
   ],
   "source": [
    "print(lista[:3]) # retirando o 0 da frente tambem funciona"
   ]
  },
  {
   "cell_type": "code",
   "execution_count": null,
   "id": "afc26e8e",
   "metadata": {
    "ExecuteTime": {
     "end_time": "2023-06-29T22:53:07.476480Z",
     "start_time": "2023-06-29T22:53:07.455763Z"
    }
   },
   "outputs": [
    {
     "name": "stdout",
     "output_type": "stream",
     "text": [
      "[7, 8, 9, 10]\n"
     ]
    }
   ],
   "source": [
    "print(lista[6:10]) # de : até sem incluir a última posicao"
   ]
  },
  {
   "cell_type": "code",
   "execution_count": null,
   "id": "7c369dcf",
   "metadata": {
    "ExecuteTime": {
     "end_time": "2023-06-29T22:54:39.387621Z",
     "start_time": "2023-06-29T22:54:39.366577Z"
    }
   },
   "outputs": [
    {
     "name": "stdout",
     "output_type": "stream",
     "text": [
      "[7, 8, 9]\n"
     ]
    }
   ],
   "source": [
    "print(lista[6:-1]) # intervalo fechado no inicio e aberto no final"
   ]
  },
  {
   "cell_type": "code",
   "execution_count": null,
   "id": "56be891f",
   "metadata": {
    "ExecuteTime": {
     "end_time": "2023-06-29T23:38:11.739834Z",
     "start_time": "2023-06-29T23:38:11.715051Z"
    }
   },
   "outputs": [
    {
     "name": "stdout",
     "output_type": "stream",
     "text": [
      "[1, 2, 3, 4, 5, 6, 7, 8, 9]\n"
     ]
    }
   ],
   "source": [
    "print(lista[:-1]) # excluindo o último elemento da lista, [0: n-1]"
   ]
  },
  {
   "cell_type": "code",
   "execution_count": null,
   "id": "d49ac2d8",
   "metadata": {},
   "outputs": [
    {
     "name": "stdout",
     "output_type": "stream",
     "text": [
      "[7, 8, 9, 10]\n"
     ]
    }
   ],
   "source": [
    "print(lista[6:])"
   ]
  },
  {
   "cell_type": "code",
   "execution_count": null,
   "id": "4a3dc056",
   "metadata": {},
   "outputs": [
    {
     "name": "stdout",
     "output_type": "stream",
     "text": [
      "[]\n"
     ]
    }
   ],
   "source": [
    "print(lista[0:0]) # começa e termina no mesmo elemento"
   ]
  },
  {
   "cell_type": "code",
   "execution_count": null,
   "id": "ba0b810e",
   "metadata": {},
   "outputs": [
    {
     "name": "stdout",
     "output_type": "stream",
     "text": [
      "[1]\n"
     ]
    }
   ],
   "source": [
    "print(lista[0:1])"
   ]
  },
  {
   "cell_type": "code",
   "execution_count": null,
   "id": "a8c798de",
   "metadata": {},
   "outputs": [
    {
     "name": "stdout",
     "output_type": "stream",
     "text": [
      "[2, 4, 6, 8]\n"
     ]
    }
   ],
   "source": [
    "print(lista[1:8:2]) # pulando de dois em 2 (pegar somente os pares)"
   ]
  },
  {
   "cell_type": "code",
   "execution_count": null,
   "id": "5b334aff",
   "metadata": {},
   "outputs": [
    {
     "name": "stdout",
     "output_type": "stream",
     "text": [
      "[3, 6, 9]\n"
     ]
    }
   ],
   "source": [
    "print(lista[2:10:3]) # pulando de 3 em 3"
   ]
  },
  {
   "cell_type": "code",
   "execution_count": null,
   "id": "678d8e6d",
   "metadata": {},
   "outputs": [
    {
     "name": "stdout",
     "output_type": "stream",
     "text": [
      "[1, 2, 11, 4, 5, 6, 7, 8, 9, 10]\n"
     ]
    }
   ],
   "source": [
    "# substituindo o valor do 3 para sobrescrever o valor na lista\n",
    "\n",
    "lista[2] = 11\n",
    "print(lista)"
   ]
  },
  {
   "cell_type": "code",
   "execution_count": null,
   "id": "ce2c67c4",
   "metadata": {},
   "outputs": [
    {
     "name": "stdout",
     "output_type": "stream",
     "text": [
      "[1, 2, 11, 4, 5, 6, 7, 8, 9, 10, 99]\n"
     ]
    }
   ],
   "source": [
    "#inserindo um valor no final da lista usamos o append()\n",
    "\n",
    "lista.append(99)\n",
    "print(lista)"
   ]
  },
  {
   "cell_type": "code",
   "execution_count": null,
   "id": "952bd165",
   "metadata": {},
   "outputs": [
    {
     "name": "stdout",
     "output_type": "stream",
     "text": [
      "[1, 2, 11, 4, 5, 6, 7, 8, 9, 10, 99, [1, 2, 3, 4, 5]]\n"
     ]
    }
   ],
   "source": [
    "lista.append([1,2,3,4,5]) # adicionando um elemento dentro da lista por vez\n",
    "print(lista)"
   ]
  },
  {
   "cell_type": "code",
   "execution_count": null,
   "id": "9257dabd",
   "metadata": {},
   "outputs": [
    {
     "name": "stdout",
     "output_type": "stream",
     "text": [
      "[1, 2, 3, 4, 5]\n",
      "<class 'list'>\n"
     ]
    }
   ],
   "source": [
    "print(lista[-1])\n",
    "print(type(lista[-1]))"
   ]
  },
  {
   "cell_type": "code",
   "execution_count": null,
   "id": "d6f0adb9",
   "metadata": {},
   "outputs": [
    {
     "name": "stdout",
     "output_type": "stream",
     "text": [
      "5\n"
     ]
    }
   ],
   "source": [
    "print(lista[-1][-1])"
   ]
  },
  {
   "cell_type": "code",
   "execution_count": null,
   "id": "24c68416",
   "metadata": {},
   "outputs": [
    {
     "name": "stdout",
     "output_type": "stream",
     "text": [
      "1\n"
     ]
    }
   ],
   "source": [
    "print(lista[-1][0])"
   ]
  },
  {
   "cell_type": "code",
   "execution_count": null,
   "id": "ddd1b206",
   "metadata": {},
   "outputs": [
    {
     "name": "stdout",
     "output_type": "stream",
     "text": [
      "[3]\n"
     ]
    }
   ],
   "source": [
    "print(lista[-1][2:3]) # pegando apenas o elemento da posicao 2 da lista"
   ]
  },
  {
   "cell_type": "code",
   "execution_count": null,
   "id": "e8876a66",
   "metadata": {},
   "outputs": [
    {
     "name": "stdout",
     "output_type": "stream",
     "text": [
      "99\n"
     ]
    }
   ],
   "source": [
    "print(lista[-2])"
   ]
  },
  {
   "cell_type": "code",
   "execution_count": null,
   "id": "f2bb3a72",
   "metadata": {},
   "outputs": [
    {
     "name": "stdout",
     "output_type": "stream",
     "text": [
      "[1, 2.5, 3, 4, 1, 2.0, 'savannah']\n"
     ]
    }
   ],
   "source": [
    "print(lista_4 + lista_5) # juntando o valor das duas listas, concatena as duas listas transformando-as em uma só"
   ]
  },
  {
   "cell_type": "code",
   "execution_count": null,
   "id": "d11d4141",
   "metadata": {},
   "outputs": [
    {
     "name": "stdout",
     "output_type": "stream",
     "text": [
      "[1, 2.0, 'savannah', 1, 2.5, 3, 4]\n"
     ]
    }
   ],
   "source": [
    "print(lista_5 + lista_4) "
   ]
  },
  {
   "cell_type": "code",
   "execution_count": null,
   "id": "5eaf9295",
   "metadata": {},
   "outputs": [
    {
     "name": "stdout",
     "output_type": "stream",
     "text": [
      "3\n"
     ]
    }
   ],
   "source": [
    "lista_impar = [1,2,3,4,5]\n",
    "meio = len(lista_impar)//2\n",
    "\n",
    "print(lista_impar[meio])"
   ]
  },
  {
   "cell_type": "markdown",
   "id": "f4bac6d5",
   "metadata": {
    "ExecuteTime": {
     "end_time": "2023-06-29T22:52:13.757377Z",
     "start_time": "2023-06-29T22:52:13.737024Z"
    }
   },
   "source": [
    "Existem várias outras funções/métodos de listas que vocês irão aprender no próximo módulo, como:\n",
    "\n",
    "- append: Adiciona um elemento ao final da lista.\n",
    "- insert: Insere um elemento em uma posição específica da lista.\n",
    "- remove: Remove a primeira ocorrência de um elemento da lista\n",
    "- pop: Remove e retorna o elemento em uma posição específica da lista. Se nenhum índice for fornecido, remove e retorna o último elemento.\n",
    "- sort: Ordena a lista in-place (modifica a lista original).\n",
    "- sorted : Retorna uma nova lista ordenada a partir de um iterável, sem modificar o original.\n",
    "- reverse: Inverte a ordem dos elementos na lista in-place.\n",
    "- index: Retorna o índice da primeira ocorrência de um elemento na lista.\n",
    "- max, min, len\n",
    "    "
   ]
  },
  {
   "cell_type": "markdown",
   "id": "b060626d",
   "metadata": {},
   "source": [
    "sorted somente em uma lista normal, ordena qualquer coisa que seja ordenavel ou comparáveis"
   ]
  },
  {
   "cell_type": "code",
   "execution_count": null,
   "id": "7597bba9",
   "metadata": {},
   "outputs": [],
   "source": [
    "lista = [1, 2, 11, 4, 5, 6, 7, 8, 9, 10]"
   ]
  },
  {
   "cell_type": "code",
   "execution_count": null,
   "id": "eb90e370",
   "metadata": {
    "ExecuteTime": {
     "end_time": "2023-06-29T22:56:30.796648Z",
     "start_time": "2023-06-29T22:56:30.777686Z"
    }
   },
   "outputs": [
    {
     "data": {
      "text/plain": [
       "[1, 2, 4, 5, 6, 7, 8, 9, 10, 11]"
      ]
     },
     "execution_count": 46,
     "metadata": {},
     "output_type": "execute_result"
    }
   ],
   "source": [
    "sorted(lista)"
   ]
  },
  {
   "cell_type": "code",
   "execution_count": null,
   "id": "cd79e129",
   "metadata": {
    "ExecuteTime": {
     "end_time": "2023-06-29T22:56:52.653894Z",
     "start_time": "2023-06-29T22:56:52.636248Z"
    }
   },
   "outputs": [
    {
     "data": {
      "text/plain": [
       "11"
      ]
     },
     "execution_count": 47,
     "metadata": {},
     "output_type": "execute_result"
    }
   ],
   "source": [
    "max(lista)"
   ]
  },
  {
   "cell_type": "code",
   "execution_count": null,
   "id": "7d06c247",
   "metadata": {
    "ExecuteTime": {
     "end_time": "2023-06-29T22:56:59.905041Z",
     "start_time": "2023-06-29T22:56:59.879562Z"
    }
   },
   "outputs": [
    {
     "data": {
      "text/plain": [
       "1"
      ]
     },
     "execution_count": 48,
     "metadata": {},
     "output_type": "execute_result"
    }
   ],
   "source": [
    "min(lista)"
   ]
  },
  {
   "cell_type": "code",
   "execution_count": null,
   "id": "1d881ebb",
   "metadata": {},
   "outputs": [
    {
     "name": "stdout",
     "output_type": "stream",
     "text": [
      "[1, 2, 11, 4, 90, 6, 18, 8, 9, 10]\n",
      "[1, 2, 4, 6, 8, 9, 10, 11, 18, 90]\n",
      "[1, 2, 11, 4, 90, 6, 18, 8, 9, 10]\n",
      "[1, 2, 4, 6, 8, 9, 10, 11, 18, 90]\n"
     ]
    }
   ],
   "source": [
    "lista = [1, 2, 11, 4, 90, 6, 18, 8, 9, 10]\n",
    "print(lista)\n",
    "\n",
    "lista2 = sorted(lista) # consegue atribuir a um novo objeto, preservando a primeira lista intacta, permitindo até a comparaçåo entre as listas\n",
    "print(lista2)\n",
    "\n",
    "print(lista)\n",
    "\n",
    "lista.sort() # afeta o objeto em sim, a modificacao ocorre inplace nos próprios onjetos da lista, tanto que o retorno dele é None, diferent do sorted(), ele afeta a lista original\n",
    "print(lista)"
   ]
  },
  {
   "cell_type": "code",
   "execution_count": null,
   "id": "2e1a56b6",
   "metadata": {
    "ExecuteTime": {
     "end_time": "2023-06-29T23:09:55.227172Z",
     "start_time": "2023-06-29T23:09:49.854071Z"
    }
   },
   "outputs": [
    {
     "name": "stdout",
     "output_type": "stream",
     "text": [
      "[1, 2, 4, 6, 8, 9, 10, 11, 18, 90]\n"
     ]
    }
   ],
   "source": [
    "# sort() nao retorna nada, é um inplace para ver o valor retornando precisamos printar o resultado\n",
    "lista.sort()\n",
    "print(lista)"
   ]
  },
  {
   "cell_type": "markdown",
   "id": "d9df7da1",
   "metadata": {},
   "source": [
    "**Percorrer a lista**"
   ]
  },
  {
   "cell_type": "code",
   "execution_count": null,
   "id": "d53d4480",
   "metadata": {
    "ExecuteTime": {
     "end_time": "2023-06-29T23:22:53.411814Z",
     "start_time": "2023-06-29T23:22:53.402698Z"
    }
   },
   "outputs": [
    {
     "name": "stdout",
     "output_type": "stream",
     "text": [
      "Lista final com os números digitados [4, 6, 7, -9, 8], e a soma total dos números existente dentro dessa lista é igua a 16\n"
     ]
    }
   ],
   "source": [
    "# Dada uma lista de números, somar os elementos dessa lista usando os índices\n",
    "numeros = []\n",
    "soma = 0\n",
    "while True:\n",
    "    num_inserir = int(input(\"Insira um elemento diferente de 0 para ser adicionado a sua lista\"))\n",
    "    if num_inserir == 0:\n",
    "        break\n",
    "    else:\n",
    "       numeros.append(num_inserir) \n",
    "       soma += num_inserir\n",
    "\n",
    "print(f\"Lista final com os números digitados {numeros}, e a soma total dos números existente dentro dessa lista é igual a {soma}\")"
   ]
  },
  {
   "cell_type": "code",
   "execution_count": null,
   "id": "0ee733cc",
   "metadata": {},
   "outputs": [
    {
     "name": "stdout",
     "output_type": "stream",
     "text": [
      "Lista final com os números digitados [4, 6, 7, -9, 8], e a soma total dos números existente dentro dessa lista é igual a 16\n"
     ]
    }
   ],
   "source": [
    "# Dada uma lista de números, somar os elementos dessa lista usando os índices\n",
    "numeros = []\n",
    "while True:\n",
    "    num_inserir = int(input(\"Insira um elemento diferente de 0 para ser adicionado a sua lista\"))\n",
    "    if num_inserir == 0:\n",
    "        break\n",
    "    else:\n",
    "       numeros.append(num_inserir) \n",
    "\n",
    "print(f\"Lista final com os números digitados {numeros}, e a soma total dos números existente dentro dessa lista é igual a {sum(numeros)}\")"
   ]
  },
  {
   "cell_type": "markdown",
   "id": "17f5adff",
   "metadata": {},
   "source": [
    "### NAO USAR NA PROVA A LINHA ABAIXO, APENAS A TITULO DE CONHECIMENTO"
   ]
  },
  {
   "cell_type": "code",
   "execution_count": null,
   "id": "a4ea6ea3",
   "metadata": {
    "ExecuteTime": {
     "end_time": "2023-06-29T23:27:35.335331Z",
     "start_time": "2023-06-29T23:27:35.312749Z"
    }
   },
   "outputs": [
    {
     "name": "stdout",
     "output_type": "stream",
     "text": [
      "Lista final com os números digitados [8, 9, 2, 5, 6], e a soma total dos números existente dentro dessa lista é igual a 30\n"
     ]
    }
   ],
   "source": [
    "numeros = list(iter(lambda: int(input(\"Insira um elemento diferente de 0 para ser adicionado a sua lista (0 para sair): \")), 0))\n",
    "soma = sum(numeros)\n",
    "print(f\"Lista final com os números digitados {numeros}, e a soma total dos números existente dentro dessa lista é igual a {soma}\")\n"
   ]
  },
  {
   "cell_type": "markdown",
   "id": "9d63c551",
   "metadata": {},
   "source": [
    "**Maneiras de percorrer uma lista**\n",
    "\n",
    "numeros = [1, 3, 5, 7, 9]\n",
    "\n",
    "- Usando while\n",
    "\n",
    "Pros: Eu sei não só o elemento mas sei o indice também   \n",
    "Contra: Eu preciso controlar o índice\n",
    "\n",
    "```python\n",
    "contador = 0\n",
    "while (contador < len(numeros)):\n",
    "    print(numeros[contador])\n",
    "    contador = contador + 1  Se eu esquecer essa linha vira um loop infinito\n",
    "```\n",
    "\n",
    "\n",
    "- Jeito intermediario: for in range\n",
    "\n",
    "Pros: Sei o indice, não preciso controlar o loop  \n",
    "Contra: Precisa saber usar a função range  \n",
    "range(5) ->  [0, 1, 2, 3, 4]\n",
    "\n",
    "```python\n",
    "numeros = [1, 3, 5, 7, 9]\n",
    "for indice in range(len(numeros)):\n",
    "    print(numeros[indice])\n",
    "```\n",
    "\n",
    "\n",
    "- Usando só for (sem índice)\n",
    "\n",
    "Pros: não preciso me preocupar com o índice e nem com loop  \n",
    "Contra: não sei índice\n",
    "\n",
    "```python\n",
    "numeros = [1, 3, 5, 7, 9]\n",
    "for numero in numeros:        numero é uma especie de variavel temporaria, usamos item, elemento, etc\n",
    "    print(numero)\n",
    "```"
   ]
  },
  {
   "cell_type": "markdown",
   "id": "d9b25c6c",
   "metadata": {},
   "source": [
    "Vamos ver um exemplo:"
   ]
  },
  {
   "cell_type": "code",
   "execution_count": 85,
   "id": "575436e8",
   "metadata": {
    "ExecuteTime": {
     "end_time": "2023-06-29T23:57:04.136886Z",
     "start_time": "2023-06-29T23:57:04.125680Z"
    }
   },
   "outputs": [
    {
     "name": "stdout",
     "output_type": "stream",
     "text": [
      "1\n",
      "2\n",
      "3\n",
      "4\n",
      "5\n",
      "6\n",
      "7\n"
     ]
    }
   ],
   "source": [
    "numeros = [1,2,3,4,5,6, 7]\n",
    "\n",
    "# printa a partir do indice\n",
    "print(numeros[0])\n",
    "print(numeros[1])\n",
    "print(numeros[2])\n",
    "print(numeros[3])\n",
    "print(numeros[4])\n",
    "print(numeros[5])\n",
    "print(numeros[6])"
   ]
  },
  {
   "cell_type": "code",
   "execution_count": 86,
   "id": "8026d21c",
   "metadata": {
    "ExecuteTime": {
     "end_time": "2023-06-29T23:58:36.091895Z",
     "start_time": "2023-06-29T23:58:36.078306Z"
    }
   },
   "outputs": [
    {
     "name": "stdout",
     "output_type": "stream",
     "text": [
      "1\n",
      "2\n",
      "3\n",
      "4\n",
      "5\n",
      "6\n",
      "7\n"
     ]
    }
   ],
   "source": [
    "contador = 0 \n",
    "while contador < len(numeros):\n",
    "    print(numeros[contador])\n",
    "    contador += 1"
   ]
  },
  {
   "cell_type": "code",
   "execution_count": 87,
   "id": "14e40796",
   "metadata": {},
   "outputs": [
    {
     "name": "stdout",
     "output_type": "stream",
     "text": [
      "range(0, 5)\n",
      "[0, 1, 2, 3, 4, 5, 6, 7, 8, 9]\n"
     ]
    }
   ],
   "source": [
    "print(range(5)) # nao é um tipo printavel \n",
    "\n",
    "# range(inicio, final, incremento/step/passo)\n",
    "# o range cria uma sequencia numeria sobre algo\n",
    "print(list(range(0, 10, 1))) # intervalo aberto no valor final"
   ]
  },
  {
   "cell_type": "code",
   "execution_count": 88,
   "id": "0047a308",
   "metadata": {},
   "outputs": [
    {
     "name": "stdout",
     "output_type": "stream",
     "text": [
      "range(0, 7)\n"
     ]
    }
   ],
   "source": [
    "print(range(len(numeros)))"
   ]
  },
  {
   "cell_type": "code",
   "execution_count": 89,
   "id": "6cf1d7fa",
   "metadata": {},
   "outputs": [
    {
     "name": "stdout",
     "output_type": "stream",
     "text": [
      "[0, 1, 2, 3, 4, 5, 6]\n"
     ]
    }
   ],
   "source": [
    "print(list(range(len(numeros))))"
   ]
  },
  {
   "cell_type": "code",
   "execution_count": 93,
   "id": "ab981358",
   "metadata": {},
   "outputs": [
    {
     "name": "stdout",
     "output_type": "stream",
     "text": [
      "No indice 0 o valor na lista é 1\n",
      "No indice 1 o valor na lista é 2\n",
      "No indice 2 o valor na lista é 3\n",
      "No indice 3 o valor na lista é 4\n",
      "No indice 4 o valor na lista é 5\n",
      "No indice 5 o valor na lista é 6\n",
      "No indice 6 o valor na lista é 7\n"
     ]
    }
   ],
   "source": [
    "for indice in range(len(numeros)):\n",
    "    print(f\"No indice {indice} o valor na lista é {numeros[indice]}\")"
   ]
  },
  {
   "cell_type": "code",
   "execution_count": 92,
   "id": "cde9ee5c",
   "metadata": {},
   "outputs": [
    {
     "name": "stdout",
     "output_type": "stream",
     "text": [
      "[1, 2, 3, 4, 5, 6, 7]\n",
      "[0, 1, 2, 3, 4, 5, 6]\n"
     ]
    }
   ],
   "source": [
    "print(numeros[:7]) # traz os valores em si\n",
    "print(list(range(len(numeros)))) # em cima dos indices"
   ]
  },
  {
   "cell_type": "code",
   "execution_count": 91,
   "id": "c5582d63",
   "metadata": {},
   "outputs": [
    {
     "name": "stdout",
     "output_type": "stream",
     "text": [
      "1 2 3 4 "
     ]
    }
   ],
   "source": [
    "numeros = [1, 2, 3, 4, 5, 6, 7]\n",
    "for indice in range(len(numeros[::2])):\n",
    "    print(numeros[indice], end=\" \")"
   ]
  },
  {
   "cell_type": "code",
   "execution_count": 94,
   "id": "3d9bcecc",
   "metadata": {},
   "outputs": [
    {
     "name": "stdout",
     "output_type": "stream",
     "text": [
      "1\n",
      "2\n",
      "3\n",
      "4\n",
      "5\n",
      "6\n",
      "7\n"
     ]
    }
   ],
   "source": [
    "for i in numeros: # for each (para cada número em números) em algumas linguagens, imprime apenas o valor dentro da lista, mas nao pega o índice\n",
    "    print(i)"
   ]
  },
  {
   "cell_type": "code",
   "execution_count": 95,
   "id": "21440036",
   "metadata": {},
   "outputs": [
    {
     "name": "stdout",
     "output_type": "stream",
     "text": [
      "Nara\n",
      "Naiara\n",
      "Thais\n",
      "Bruno\n",
      "Thiago\n",
      "Rodrigo\n"
     ]
    }
   ],
   "source": [
    "nome_alunos = ['Nara', 'Naiara', 'Thais', 'Bruno', 'Thiago', 'Rodrigo']\n",
    "for nome in nome_alunos: # boas praticas deixar as variaveis bem declarativas, essencialmente recomendável\n",
    "    print(nome)"
   ]
  },
  {
   "cell_type": "code",
   "execution_count": 96,
   "id": "17179335",
   "metadata": {},
   "outputs": [
    {
     "name": "stdout",
     "output_type": "stream",
     "text": [
      "igual a 4\n"
     ]
    }
   ],
   "source": [
    "numero = 4\n",
    "\n",
    "if numero < 4:\n",
    "    print(\"menor que 4\")\n",
    "elif numero > 4:\n",
    "    print(\"maior que 4\")\n",
    "else:\n",
    "    print(\"igual a 4\")"
   ]
  },
  {
   "cell_type": "code",
   "execution_count": 99,
   "id": "340f0c32",
   "metadata": {},
   "outputs": [
    {
     "name": "stdout",
     "output_type": "stream",
     "text": [
      "4 3 2 1 passei pelo else\n"
     ]
    }
   ],
   "source": [
    "numero = 4\n",
    "while numero> 0:\n",
    "    print(numero, end = ' ')\n",
    "    numero -= 1\n",
    "else:\n",
    "    print(\"passei pelo else\")"
   ]
  },
  {
   "cell_type": "code",
   "execution_count": 102,
   "id": "06c8502d",
   "metadata": {},
   "outputs": [
    {
     "name": "stdout",
     "output_type": "stream",
     "text": [
      "4 3 2 "
     ]
    }
   ],
   "source": [
    "numero = 4\n",
    "while numero> 0:\n",
    "    print(numero, end = ' ')\n",
    "    numero -= 1\n",
    "    if numero == 1:\n",
    "        break\n",
    "else:\n",
    "    print(\"passei pelo else\")"
   ]
  },
  {
   "cell_type": "markdown",
   "id": "baf06e13",
   "metadata": {},
   "source": [
    "range(stop)\n",
    "range(start, stop)\n",
    "range(start, stop, step)"
   ]
  },
  {
   "cell_type": "code",
   "execution_count": 101,
   "id": "8dbc7215",
   "metadata": {},
   "outputs": [
    {
     "name": "stdout",
     "output_type": "stream",
     "text": [
      "0 1 2 3 passei pelo else\n"
     ]
    }
   ],
   "source": [
    "for i in range(4):\n",
    "    print(i, end = ' ')\n",
    "else: # so nao passara pelo else se houve um break\n",
    "    print('passei pelo else do for')\n"
   ]
  },
  {
   "cell_type": "code",
   "execution_count": 103,
   "id": "6e1a5929",
   "metadata": {},
   "outputs": [
    {
     "name": "stdout",
     "output_type": "stream",
     "text": [
      "0 1 2 "
     ]
    }
   ],
   "source": [
    "for i in range(4):\n",
    "    print(i, end = ' ')\n",
    "    if i == 2:\n",
    "        break # quebra o laço\n",
    "else: # so nao passara pelo else se houve um break\n",
    "    print('passei pelo else do for')\n"
   ]
  },
  {
   "cell_type": "markdown",
   "id": "efb6b72d",
   "metadata": {},
   "source": [
    "**Exercícios**"
   ]
  },
  {
   "cell_type": "markdown",
   "id": "80de8ffc",
   "metadata": {},
   "source": [
    "1. Crie uma lista qualquer e faça um programa que imprima cada elemento da lista usando o for."
   ]
  },
  {
   "cell_type": "code",
   "execution_count": 105,
   "id": "4afe9330",
   "metadata": {
    "ExecuteTime": {
     "end_time": "2023-06-30T00:28:06.089625Z",
     "start_time": "2023-06-30T00:28:06.070133Z"
    }
   },
   "outputs": [
    {
     "name": "stdout",
     "output_type": "stream",
     "text": [
      "1 2 3 4 5 6 7 8 9 10 "
     ]
    }
   ],
   "source": [
    "numeros = [1,2,3,4,5,6,7,8,9,10]\n",
    "\n",
    "for numero in numeros:\n",
    "    print(numero, end = ' ')"
   ]
  },
  {
   "cell_type": "code",
   "execution_count": 107,
   "id": "db91686b",
   "metadata": {
    "ExecuteTime": {
     "end_time": "2023-06-30T00:29:01.575343Z",
     "start_time": "2023-06-30T00:29:01.569330Z"
    }
   },
   "outputs": [
    {
     "name": "stdout",
     "output_type": "stream",
     "text": [
      "3 4 5 6 7 8 "
     ]
    }
   ],
   "source": [
    "numeros = []\n",
    "while True:\n",
    "    num_inserir = int(input(\"Insira um elemento diferente de 0 para ser adicionado a sua lista\"))\n",
    "    if num_inserir == 0:\n",
    "        break\n",
    "    else:\n",
    "       numeros.append(num_inserir) \n",
    "\n",
    "for numero in numeros:\n",
    "    print(numero, end = ' ')"
   ]
  },
  {
   "cell_type": "markdown",
   "id": "5ba15420",
   "metadata": {},
   "source": [
    "2. Faça um programa que imprima todos os itens de uma lista usando while e compare com o exercício 1.\n",
    "\n"
   ]
  },
  {
   "cell_type": "code",
   "execution_count": 108,
   "id": "7e410b03",
   "metadata": {
    "ExecuteTime": {
     "end_time": "2023-06-30T00:32:38.591587Z",
     "start_time": "2023-06-30T00:32:38.581504Z"
    }
   },
   "outputs": [
    {
     "name": "stdout",
     "output_type": "stream",
     "text": [
      "1 2 3 4 5 6 7 8 9 10 "
     ]
    }
   ],
   "source": [
    "numeros = [1,2,3,4,5,6,7,8,9,10]\n",
    "contador = 0\n",
    "\n",
    "while contador < len(numeros):\n",
    "    print(numeros[contador], end = ' ')\n",
    "    contador += 1"
   ]
  },
  {
   "cell_type": "markdown",
   "id": "b8fc8680",
   "metadata": {},
   "source": [
    "3) Faça um programa que peça para o usuário digitar um número n e imprima uma lista com todos os números de 0 a n-1."
   ]
  },
  {
   "cell_type": "code",
   "execution_count": 110,
   "id": "e4c19751",
   "metadata": {
    "ExecuteTime": {
     "end_time": "2023-06-30T00:36:12.335746Z",
     "start_time": "2023-06-30T00:36:10.254113Z"
    }
   },
   "outputs": [
    {
     "name": "stdout",
     "output_type": "stream",
     "text": [
      "0 1 2 3 4 5 "
     ]
    }
   ],
   "source": [
    "tamanho_lista = int(input(\"Entre o tamanho da lista que voce quer visualizar\"))\n",
    "\n",
    "for i in range(tamanho_lista):\n",
    "    print(i, end=' ')"
   ]
  },
  {
   "cell_type": "code",
   "execution_count": 129,
   "id": "c2f3f75a",
   "metadata": {},
   "outputs": [
    {
     "name": "stdout",
     "output_type": "stream",
     "text": [
      "[0, 1, 2, 3, 4, 5, 6, 7, 8, 9, 10]\n"
     ]
    }
   ],
   "source": [
    "# se o enunciado fosse de 0 a n\n",
    "\n",
    "n = int(input(\"Digite qualquer número: \"))\n",
    "\n",
    "lista = list(range(n+1))\n",
    "\n",
    "print(lista)"
   ]
  },
  {
   "cell_type": "markdown",
   "id": "2a24e132",
   "metadata": {},
   "source": [
    "4. Faça um programa que olhe todos os itens de uma lista e diga quantos deles são pares. "
   ]
  },
  {
   "cell_type": "code",
   "execution_count": 111,
   "id": "167af989",
   "metadata": {
    "ExecuteTime": {
     "end_time": "2023-06-30T00:40:26.677401Z",
     "start_time": "2023-06-30T00:40:26.667897Z"
    }
   },
   "outputs": [
    {
     "name": "stdout",
     "output_type": "stream",
     "text": [
      "Os numeros pares sao: [8, 6, 2, 10, 0, -20]\n"
     ]
    }
   ],
   "source": [
    "numeros = [9, 8, 9, 5, 6, 2, 1, 10, 0, -17, -20]\n",
    "pares = []\n",
    "\n",
    "for numero in numeros:\n",
    "    if numero % 2 == 0:\n",
    "        pares.append(numero)\n",
    "\n",
    "print(f\"Os numeros pares sao: {pares}\")"
   ]
  },
  {
   "cell_type": "markdown",
   "id": "d18b5e09",
   "metadata": {},
   "source": [
    "5. Faça um programa que imprima o maior número de uma lista, sem usar o método max()"
   ]
  },
  {
   "cell_type": "code",
   "execution_count": 115,
   "id": "9fca7730",
   "metadata": {
    "ExecuteTime": {
     "end_time": "2023-06-30T00:43:38.103964Z",
     "start_time": "2023-06-30T00:43:38.087649Z"
    }
   },
   "outputs": [
    {
     "name": "stdout",
     "output_type": "stream",
     "text": [
      "Os top 3 maiores números são: [2000, 300, 120]\n"
     ]
    }
   ],
   "source": [
    "numeros = [3,7,100, 300, 80, 120, 2000]\n",
    "numeros.sort(reverse=True)\n",
    "print(f\"Os top 3 maiores números são: {numeros[:3]}\")"
   ]
  },
  {
   "cell_type": "markdown",
   "id": "de77429c",
   "metadata": {},
   "source": [
    "6. Agora usando o método max() faça um programa que imprima os três maiores números de uma lista. "
   ]
  },
  {
   "cell_type": "code",
   "execution_count": 114,
   "id": "b7811538",
   "metadata": {
    "ExecuteTime": {
     "end_time": "2023-06-30T00:49:02.203695Z",
     "start_time": "2023-06-30T00:49:02.189583Z"
    }
   },
   "outputs": [
    {
     "name": "stdout",
     "output_type": "stream",
     "text": [
      "Os top 3 maiores números são: 2000, 300, 120\n"
     ]
    }
   ],
   "source": [
    "numeros = [3,7,100, 300, 80, 120, 2000]\n",
    "primeiro = max(numeros)\n",
    "numeros.remove(primeiro)\n",
    "segundo = max(numeros)\n",
    "numeros.remove(segundo)\n",
    "terceiro = max(numeros)\n",
    "numeros.remove(terceiro)\n",
    "print(f\"Os top 3 maiores números são: {primeiro}, {segundo}, {terceiro}\")"
   ]
  },
  {
   "cell_type": "code",
   "execution_count": 124,
   "id": "a83b5216",
   "metadata": {},
   "outputs": [
    {
     "name": "stdout",
     "output_type": "stream",
     "text": [
      "5 4 3 "
     ]
    }
   ],
   "source": [
    "n1 = [1, 2, 3, 4, 5]\n",
    "\n",
    "contador = 3\n",
    "\n",
    "while contador != 0:\n",
    "    print(n1[-1], end = ' ')\n",
    "    n1.remove(max(n1))\n",
    "    contador -= 1"
   ]
  },
  {
   "cell_type": "markdown",
   "id": "805a40b8",
   "metadata": {},
   "source": [
    "7. Faça um programa que, dadas duas listas de mesmo tamanho, crie uma nova lista com cada elemento igual a soma dos elementos da lista 1 com os da lista 2, na mesma posição. "
   ]
  },
  {
   "cell_type": "code",
   "execution_count": 125,
   "id": "780d7f82",
   "metadata": {},
   "outputs": [
    {
     "name": "stdout",
     "output_type": "stream",
     "text": [
      "A somatoria dos valores das listas 1 e 2 é igual a [5, 9, 6, 12, 6, 14, 15, 12, 11]\n"
     ]
    }
   ],
   "source": [
    "lista1 = [1,2,3,4,5,6,7,8,9]\n",
    "lista2 = [4,7,3,8,1,8,8,4,2]\n",
    "lista3 = []\n",
    "\n",
    "for i in range(len(lista1)):\n",
    "    lista3.append(lista1[i] + lista2[i])\n",
    "\n",
    "print(f\"A somatoria dos valores das listas 1 e 2 é igual a {lista3}\")\n"
   ]
  },
  {
   "cell_type": "code",
   "execution_count": 127,
   "id": "6819a3bd",
   "metadata": {
    "ExecuteTime": {
     "end_time": "2023-06-30T01:01:48.670088Z",
     "start_time": "2023-06-30T01:01:48.649865Z"
    }
   },
   "outputs": [
    {
     "name": "stdout",
     "output_type": "stream",
     "text": [
      "A somatoria dos valores das listas 1 e 2 é igual a [5, 9, 6, 12, 6, 14, 15, 12, 11]\n"
     ]
    }
   ],
   "source": [
    "lista1 = [1,2,3,4,5,6,7,8,9]\n",
    "lista2 = [4,7,3,8,1,8,8,4,2]\n",
    "lista3 = []\n",
    "\n",
    "# comparando os valores das listas para validar que eles tem tamanhos iguais\n",
    "if len(lista1) != len(lista2):\n",
    "    print(\"Valor das listas é diferente\")\n",
    "else:\n",
    "    for i in range(len(lista1)):\n",
    "        lista3.append(lista1[i] + lista2[i])\n",
    "\n",
    "    print(f\"A somatoria dos valores das listas 1 e 2 é igual a {lista3}\")\n"
   ]
  },
  {
   "cell_type": "markdown",
   "id": "d2ee0a79",
   "metadata": {},
   "source": [
    "8. Faça um programa que dadas duas listas de mesmo tamanho, imprima o produto escalar entre elas. "
   ]
  },
  {
   "cell_type": "code",
   "execution_count": null,
   "id": "ccfcd767",
   "metadata": {
    "ExecuteTime": {
     "end_time": "2023-06-30T00:55:17.103825Z",
     "start_time": "2023-06-30T00:55:17.078094Z"
    }
   },
   "outputs": [],
   "source": [
    "lista1 = [1,2,3,4,5,6,7,8,9]\n",
    "lista2 = [4,7,3,8,1,8,8,4,2]\n",
    "lista3 = []\n",
    "\n",
    "for i in range(len(lista1)): # já sei o tamanho do iteravel\n",
    "    lista3.append(lista1[i] * lista2[i])\n",
    "\n",
    "print(f\"O produto escalar dos valores das listas 1 e 2 é igual a {lista3}\")\n"
   ]
  },
  {
   "cell_type": "markdown",
   "id": "551c234e",
   "metadata": {},
   "source": [
    "9. Faça um programa que pede para o usuário digitar 5 números e, ao final, imprime uma lista com os 5 números digitados pelo usuário (sem converter os números para int ou float). "
   ]
  },
  {
   "cell_type": "code",
   "execution_count": 117,
   "id": "1083f943",
   "metadata": {
    "ExecuteTime": {
     "end_time": "2023-06-30T00:58:14.308593Z",
     "start_time": "2023-06-30T00:58:02.724853Z"
    }
   },
   "outputs": [
    {
     "name": "stdout",
     "output_type": "stream",
     "text": [
      "A lista final é igual a ['3', '2', '5', '6', '7', '8']\n"
     ]
    }
   ],
   "source": [
    "i = 0\n",
    "lista = []\n",
    "while i <= 5:\n",
    "    lista.append(input(\"Digite um numero\"))\n",
    "    i += 1\n",
    "print(f\"A lista final é igual a {lista}\")"
   ]
  },
  {
   "cell_type": "markdown",
   "id": "437b4b02",
   "metadata": {},
   "source": [
    "10. Pegue a lista gerada no exercício anterior e transforme cada um dos itens dessa lista em um float."
   ]
  },
  {
   "cell_type": "code",
   "execution_count": 119,
   "id": "ac33840d",
   "metadata": {
    "ExecuteTime": {
     "end_time": "2023-06-30T00:57:02.197028Z",
     "start_time": "2023-06-30T00:57:02.178601Z"
    }
   },
   "outputs": [
    {
     "name": "stdout",
     "output_type": "stream",
     "text": [
      "A nova lista com os valores no formato float é igual a [3.0, 2.0, 5.0, 6.0, 7.0, 8.0]\n"
     ]
    }
   ],
   "source": [
    "for i in range(len(lista)):\n",
    "    lista[i] = float(lista[i])\n",
    "\n",
    "print(f\"A nova lista com os valores no formato float é igual a {lista}\")"
   ]
  },
  {
   "cell_type": "markdown",
   "id": "1f274ced",
   "metadata": {},
   "source": [
    "11. Faça um Programa que peça as 4 notas bimestrais e mostre a média, usando listas."
   ]
  },
  {
   "cell_type": "code",
   "execution_count": 122,
   "id": "7211dfca",
   "metadata": {
    "ExecuteTime": {
     "end_time": "2023-06-30T01:00:21.646709Z",
     "start_time": "2023-06-30T01:00:14.613647Z"
    }
   },
   "outputs": [
    {
     "name": "stdout",
     "output_type": "stream",
     "text": [
      "A média das suas notas [10.0, 9.0, 10.0, 9.0] é igual a 9.5\n"
     ]
    }
   ],
   "source": [
    "i = 1\n",
    "notas = []\n",
    "while i <= 4:\n",
    "    notas.append(float(input(f\"Entre com a sua {i}a nota:\")))\n",
    "    i += 1\n",
    "\n",
    "media = sum(notas)/len(notas)\n",
    "print(f\"A média das suas notas {notas} é igual a {media}\")"
   ]
  },
  {
   "cell_type": "markdown",
   "id": "625fbbfe",
   "metadata": {},
   "source": [
    "while: quando as quantidades iteraveis nao sao conhecidas\n",
    "\n",
    "\n",
    "for: quando as quantidades iteraveis sao conhecidas"
   ]
  },
  {
   "cell_type": "markdown",
   "id": "1c4819f1",
   "metadata": {},
   "source": [
    "otimizaçao de memoria: criar variáveis acaba uttilizando memória do computador"
   ]
  },
  {
   "cell_type": "code",
   "execution_count": 130,
   "id": "46975916",
   "metadata": {},
   "outputs": [
    {
     "name": "stdout",
     "output_type": "stream",
     "text": [
      "yes\n"
     ]
    }
   ],
   "source": [
    "a = [1,2,3,4,5,6]\n",
    "if 3 in a:\n",
    "    print('yes')"
   ]
  },
  {
   "cell_type": "code",
   "execution_count": null,
   "id": "f2a5ad92",
   "metadata": {},
   "outputs": [],
   "source": []
  }
 ],
 "metadata": {
  "kernelspec": {
   "display_name": "Python 3 (ipykernel)",
   "language": "python",
   "name": "python3"
  },
  "language_info": {
   "codemirror_mode": {
    "name": "ipython",
    "version": 3
   },
   "file_extension": ".py",
   "mimetype": "text/x-python",
   "name": "python",
   "nbconvert_exporter": "python",
   "pygments_lexer": "ipython3",
   "version": "3.8.19"
  },
  "varInspector": {
   "cols": {
    "lenName": 16,
    "lenType": 16,
    "lenVar": 40
   },
   "kernels_config": {
    "python": {
     "delete_cmd_postfix": "",
     "delete_cmd_prefix": "del ",
     "library": "var_list.py",
     "varRefreshCmd": "print(var_dic_list())"
    },
    "r": {
     "delete_cmd_postfix": ") ",
     "delete_cmd_prefix": "rm(",
     "library": "var_list.r",
     "varRefreshCmd": "cat(var_dic_list()) "
    }
   },
   "types_to_exclude": [
    "module",
    "function",
    "builtin_function_or_method",
    "instance",
    "_Feature"
   ],
   "window_display": false
  }
 },
 "nbformat": 4,
 "nbformat_minor": 5
}
